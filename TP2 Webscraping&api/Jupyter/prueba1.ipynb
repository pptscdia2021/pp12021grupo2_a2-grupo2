{
 "cells": [
  {
   "cell_type": "code",
   "execution_count": 1,
   "metadata": {},
   "outputs": [],
   "source": [
    "import pandas as pd\n",
    "import requests\n",
    "import yfinance as yf\n",
    "import investpy\n",
    "from bs4 import BeautifulSoup\n",
    "from pymongo import MongoClient\n",
    "import matplotlib.pyplot as plt"
   ]
  },
  {
   "cell_type": "code",
   "execution_count": 10,
   "metadata": {},
   "outputs": [],
   "source": [
    "class Accion:\n",
    "    def __init__(self, mercado, datosAccion):\n",
    "        self.nombre = datosAccion[mercado.campo_nombre]\n",
    "        self.max = datosAccion[mercado.campo_valorMaximo]\n",
    "        self.min = datosAccion[mercado.campo_valorMinimo]\n",
    "        self.ult = datosAccion[mercado.campo_UltimoPrecio]\n",
    "        self.mov = datosAccion[mercado.campo_cambio]\n",
    "        \n",
    "class Origen:\n",
    "    def __init__(self):\n",
    "        self.__abrirColeccion()\n",
    "\n",
    "    def __abrirColeccion(self):\n",
    "        client = MongoClient('localhost')\n",
    "        bd = client['cotizaciones']\n",
    "        self.coleccion = bd[self.__class__.__name__]\n",
    "        \n",
    "    def _guardarEnBD(self, dataFrame):\n",
    "        self.coleccion.drop()\n",
    "        self.coleccion.insert_many(dataFrame.to_dict('records'))\n",
    "        \n",
    "    def visualizarBD(self):\n",
    "        for documento in self.coleccion.find({}):\n",
    "            print(documento)\n",
    "            \n",
    "    def visualizarDF(self):\n",
    "        global df\n",
    "        df = self.__documentADF(self.coleccion.find({}))\n",
    "        #print (df)\n",
    "\n",
    "    def __documentADF(self, listColeccion):\n",
    "        global df\n",
    "        df = pd.DataFrame(list(listColeccion))\n",
    "        return df.drop(['_id'], axis=1)\n",
    "        \n",
    "    def gananciaPerdidaAcciones(self,dataFrame,columna,cantidad):\n",
    "        global df\n",
    "        df = df.sort_values(by=columna, ascending = False)\n",
    "        print()\n",
    "        print(\"Acciones de mayor ganancia\\n\",df.head(cantidad))\n",
    "        print()\n",
    "        print(\"Acciones de mayor pérdida\\n\",df.tail(cantidad))\n",
    "    \n",
    "    #vamos a graficar los valores positivos de un color y los negativos de otro color\n",
    "    def graficarGananciaPerdida(self,dataFrame,x,y,titulo,nombre):\n",
    "        global df\n",
    "        dfMas=df[y]>=0 #seleccionamos los valores positivos\n",
    "        dfPositivos = df[dfMas]\n",
    "        dfPositivos = dfPositivos.rename({y: 'Ganancia'}, axis=1)  #renombramos la columna como Ganancia\n",
    "        dfMenos=df[y]<0  #seleccionamos los valores negativos\n",
    "        dfNegativos = df[dfMenos]\n",
    "        dfNegativos = dfNegativos.rename({y: 'Pérdida'}, axis=1) #renombramos la columna como Pérdida\n",
    "        df = pd.concat([dfPositivos,dfNegativos]).sort_values(by=x)   #unimos las tablas ordenadas por el nombre\n",
    "        #armamos el gráfico \n",
    "        #parámetros: columnas, tipo de gráfico, ancho de las barras, colores de las barras\n",
    "        df[[x, 'Ganancia', 'Pérdida']].plot(x, kind=\"bar\", width=1, color=[\"#04D8B2\",\"#EF4026\"]) \n",
    "        plt.title(titulo) #título del grafico\n",
    "        plt.xlabel('Acciones') #título del eje de las x\n",
    "        #guardamos el gráfico, 'tight' s para que se guarde el gráfico de manera completa\n",
    "        #parámetro: nombre\n",
    "        plt.savefig(nombre, bbox_inches='tight')\n",
    "        plt.tight_layout();plt.show() #mostramos el gráfico de manera completa\n",
    "\n",
    "    def filtrarAcciones(self, nombreAccion):\n",
    "        accion = self.coleccion.find({self.campo_nombre: {\"$in\": nombreAccion}})\n",
    "        return print(self.__documentADF(accion))\n",
    "\n",
    "    def accion(self, symbol):\n",
    "        return Accion(self, self.coleccion.find_one({self.campo_nombre: symbol}))"
   ]
  },
  {
   "cell_type": "code",
   "execution_count": 11,
   "metadata": {},
   "outputs": [
    {
     "name": "stdout",
     "output_type": "stream",
     "text": [
      "         Nombre     Últ  % Dif    Máx     Mín    Volumen Efectivo (miles €)  \\\n",
      "0          BBVA   6.146  -0.26   6.16   6.064  5.301.940          32.377,88   \n",
      "1        ENDESA  19.960  -1.09  20.13  19.870    415.163           8.299,01   \n",
      "2  GRIFOLS CL.A  19.400  -2.07  19.86  19.400    277.778           5.440,56   \n",
      "3       INDRA A  10.430   1.07  10.48  10.290    274.913           2.862,97   \n",
      "4        REPSOL  10.654  -2.36  10.86  10.632  5.699.542          61.342,87   \n",
      "\n",
      "        Fecha      Hora  \n",
      "0  03/11/2021  15:02:06  \n",
      "1  03/11/2021  15:00:50  \n",
      "2  03/11/2021  15:01:50  \n",
      "3  03/11/2021  15:01:20  \n",
      "4  03/11/2021  15:02:10  \n",
      "\n",
      "Acciones de mayor ganancia\n",
      "         Nombre      Últ  % Dif     Máx      Mín     Volumen  \\\n",
      "19         IAG   1.9795   3.21   2.006   1.9235  14.488.358   \n",
      "28  PHARMA MAR  63.0600   2.24  63.200  61.0400      66.334   \n",
      "\n",
      "   Efectivo (miles €)       Fecha      Hora  \n",
      "19          28.660,18  03/11/2021  15:02:01  \n",
      "28           4.132,65  03/11/2021  15:01:51  \n",
      "\n",
      "Acciones de mayor pérdida\n",
      "           Nombre     Últ  % Dif    Máx     Mín    Volumen Efectivo (miles €)  \\\n",
      "32       SOLARIA  15.785  -9.02  17.30  15.720    742.333          12.175,46   \n",
      "31  SIEMENS GAME  19.790 -11.06  21.72  19.685  1.701.545          35.149,35   \n",
      "\n",
      "         Fecha      Hora  \n",
      "32  03/11/2021  15:01:36  \n",
      "31  03/11/2021  15:01:59  \n"
     ]
    },
    {
     "data": {
      "image/png": "[encoded data removed]",
      "text/plain": [
       "<Figure size 432x288 with 1 Axes>"
      ]
     },
     "metadata": {
      "needs_background": "light"
     },
     "output_type": "display_data"
    },
    {
     "name": "stdout",
     "output_type": "stream",
     "text": [
      "-0.26\n"
     ]
    }
   ],
   "source": [
    "       \n",
    "class bolsaMadrid(Origen):\n",
    "    def __init__(self):\n",
    "        super().__init__()\n",
    "        self.campo_nombre = 'Nombre'\n",
    "        self.campo_valorMaximo = 'Máx'\n",
    "        self.campo_valorMinimo = 'Mín'\n",
    "        self.campo_UltimoPrecio = 'Últ'\n",
    "        self.campo_cambio = '% Dif'\n",
    "    \n",
    "    def actualizarBD(self):\n",
    "        #Hacemos la consulta a la pagina y guardamos el contenido en una variable soup\n",
    "        url_page = 'https://www.bolsamadrid.es/esp/aspx/Mercados/Precios.aspx?indice=ESI100000000'\n",
    "        page = requests.get(url_page).text \n",
    "        soup = BeautifulSoup(page, \"lxml\")\n",
    "\n",
    "        #Buscamos la tabla de donde obtener los datos\n",
    "        tabla = soup.find('table', attrs={'id': 'ctl00_Contenido_tblAcciones'})\n",
    "\n",
    "        #creamos una lista vacia que llenaremos con los datos de las tablas\n",
    "        columnas = []\n",
    "\n",
    "        #buscamos los encabezados de la tabla y los agregamos a la lista columnos (deberia ubicarse en la posicion 0)\n",
    "        headers = []\n",
    "        for th in tabla.find_all('th'):\n",
    "            headers.append(th.text.replace('.',''))\n",
    "        columnas.append(headers)\n",
    "\n",
    "        for tr in tabla.find_all('tr'):\n",
    "            fila = []\n",
    "            for td in tr.find_all('td'):\n",
    "                fila.append(td.text)\n",
    "            if len(fila) > 0:\n",
    "                columnas.append(fila)\n",
    "                \n",
    "        #creamos el dataframe usando la lista columnas,pasamos el contenido (de la posicion 1 en adelante), y lo encabezados en (posicion 0)\n",
    "        df = pd.DataFrame(columnas[1:], columns=columnas[0])\n",
    "\n",
    "        #Convertirmos a float\n",
    "        df = self.__convertirAFloat(df)\n",
    "\n",
    "        #Guardamos los datos en la base de datos\n",
    "        self._guardarEnBD(df)\n",
    "        \n",
    "    def __convertirAFloat(self, df):\n",
    "        df[\"% Dif\"] = df[\"% Dif\"].str.replace(\",\", \".\").astype(float)\n",
    "        df[\"Máx\"] = df[\"Máx\"].str.replace(\",\", \".\").astype(float)\n",
    "        df[\"Mín\"] = df[\"Mín\"].str.replace(\",\", \".\").astype(float)\n",
    "        df[\"Últ\"] = df[\"Últ\"].str.replace(\",\", \".\").astype(float)\n",
    "        return df\n",
    "\n",
    "nombreDeAcciones =[\n",
    "    'BBVA', \"BBVA.MC\",\n",
    "    'ELE', \"ELE.MC\", 'ENDESA',\n",
    "    'GRLS', \"GRF.MC\", 'GRIFOLS CL.A',\n",
    "    'INDRA A', 'IDR',\"IDR.MC\",\n",
    "    \"REP.MC\", 'REP','REPSOL'\n",
    "    ]\n",
    "\n",
    "bolsamadrid = bolsaMadrid()\n",
    "bolsamadrid.actualizarBD()\n",
    "bolsamadrid.filtrarAcciones(nombreDeAcciones)\n",
    "df_BM = bolsamadrid.visualizarDF()\n",
    "bolsamadrid.gananciaPerdidaAcciones(df_BM,'% Dif',2)\n",
    "bolsamadrid.graficarGananciaPerdida(df_BM, x='Nombre', y='% Dif', titulo='Bolsa de Madrid. Ganancia o pérdida de las acciones', nombre='Ganan_perd_BolsaMadrid.png')\n",
    "accion = bolsamadrid.accion('BBVA')\n",
    "print(accion.mov)"
   ]
  },
  {
   "cell_type": "code",
   "execution_count": 621,
   "metadata": {},
   "outputs": [
    {
     "name": "stdout",
     "output_type": "stream",
     "text": [
      "[*********************100%***********************]  1 of 1 completed\n",
      "[*********************100%***********************]  1 of 1 completed\n",
      "[*********************100%***********************]  1 of 1 completed\n",
      "[*********************100%***********************]  1 of 1 completed\n",
      "[*********************100%***********************]  1 of 1 completed\n",
      "{'_id': ObjectId('618159315bc14ce365e80f12'), 'Open': 6.202000141143799, 'High': 6.254000186920166, 'Low': 6.140999794006348, 'Close': 6.173999786376953, 'Adj Close': 6.173999786376953, 'Volume': 7315483, 'Ticker': 'BBVA.MC', 'Dif': -0.4514729785491767}\n",
      "{'_id': ObjectId('618159315bc14ce365e80f13'), 'Open': 20.040000915527344, 'High': 20.139999389648438, 'Low': 19.959999084472656, 'Close': 20.059999465942383, 'Adj Close': 20.059999465942383, 'Volume': 448569, 'Ticker': 'ELE.MC', 'Dif': 0.09979316118466386}\n",
      "{'_id': ObjectId('618159315bc14ce365e80f14'), 'Open': 19.799999237060547, 'High': 19.815000534057617, 'Low': 19.594999313354492, 'Close': 19.760000228881836, 'Adj Close': 19.760000228881836, 'Volume': 474404, 'Ticker': 'GRF.MC', 'Dif': -0.20201520060588507}\n",
      "{'_id': ObjectId('618159315bc14ce365e80f15'), 'Open': 10.369999885559082, 'High': 10.449999809265137, 'Low': 10.289999961853027, 'Close': 10.420000076293945, 'Adj Close': 10.420000076293945, 'Volume': 288785, 'Ticker': 'IDR.MC', 'Dif': 0.4821619217613744}\n",
      "{'_id': ObjectId('618159315bc14ce365e80f16'), 'Open': 11.0, 'High': 11.0, 'Low': 10.763999938964844, 'Close': 10.880000114440918, 'Adj Close': 10.880000114440918, 'Volume': 3046388, 'Ticker': 'REP.MC', 'Dif': -1.0909080505371094}\n",
      "        Open       High        Low      Close  Adj Close   Volume   Ticker  \\\n",
      "0   6.202000   6.254000   6.141000   6.174000   6.174000  7315483  BBVA.MC   \n",
      "1  20.040001  20.139999  19.959999  20.059999  20.059999   448569   ELE.MC   \n",
      "2  19.799999  19.815001  19.594999  19.760000  19.760000   474404   GRF.MC   \n",
      "3  10.370000  10.450000  10.290000  10.420000  10.420000   288785   IDR.MC   \n",
      "4  11.000000  11.000000  10.764000  10.880000  10.880000  3046388   REP.MC   \n",
      "\n",
      "        Dif  \n",
      "0 -0.451473  \n",
      "1  0.099793  \n",
      "2 -0.202015  \n",
      "3  0.482162  \n",
      "4 -1.090908  \n"
     ]
    }
   ],
   "source": [
    "class yfinance(Origen):\n",
    "\n",
    "    def __init__(self):\n",
    "        super().__init__()\n",
    "        self.campo_nombre = 'Ticker'\n",
    "        self.campo_valorMaximo = 'High'\n",
    "        self.campo_valorMinimo = 'Low'\n",
    "        self.campo_UltimoPrecio = 'Close'\n",
    "        self.campo_cambio = 'Dif'\n",
    "\n",
    "    def actualizarBD(self, acciones):\n",
    "        df_list = list()\n",
    "        for accion in acciones:\n",
    "            if not \" \" in accion and \".MC\" in accion:\n",
    "                data = yf.download(accion, group_by='ticker', period='1d')\n",
    "                if not data.empty:\n",
    "                    data['Ticker'] = accion\n",
    "                    data['Dif'] = self.__calcularDiferencia(data['Open'], data['Close'])\n",
    "                    df_list.append(data)\n",
    "\n",
    "        if len(df_list) > 0:\n",
    "            df = pd.concat(df_list)\n",
    "            self._guardarEnBD(df)\n",
    "    \n",
    "    def __calcularDiferencia(self, A, B):\n",
    "        return (B*100)/A-100\n",
    "\n",
    "yahooFinance = yfinance()\n",
    "yahooFinance.actualizarBD(nombreDeAcciones)\n",
    "yahooFinance.visualizarBD()\n",
    "yahooFinance.visualizarDF()\n"
   ]
  },
  {
   "cell_type": "code",
   "execution_count": 13,
   "metadata": {},
   "outputs": [
    {
     "name": "stdout",
     "output_type": "stream",
     "text": [
      "  country     name symbol    last    high     low  change change_percentage  \\\n",
      "0   spain     BBVA   BBVA   6.163   6.163   6.060  +0.001            +0.02%   \n",
      "1   spain  Grifols   GRLS  19.472  19.825  19.395  -0.340            -1.72%   \n",
      "2   spain   Repsol    REP  10.680  10.853  10.630  -0.211            -1.94%   \n",
      "3   spain  Indra A    IDR  10.455  10.480  10.295  +0.135            +1.31%   \n",
      "4   spain   Endesa    ELE  19.988  20.180  19.867  -0.152            -0.75%   \n",
      "\n",
      "   turnover currency    GP  %  \n",
      "0   5310000      EUR  0.02  %  \n",
      "1    278160      EUR -1.72  %  \n",
      "2   2710000      EUR -1.94  %  \n",
      "3    274910      EUR  1.31  %  \n",
      "4    415170      EUR -0.75  %  \n",
      "\n",
      "Acciones de mayor ganancia\n",
      "    country          name symbol    last    high     low  change  \\\n",
      "33   spain  Laborat.Rovi   ROVI  63.700  63.700  60.600  +2.900   \n",
      "27   spain           IAG   ICAG   1.982   2.006   1.918  +0.064   \n",
      "\n",
      "   change_percentage  turnover currency    GP  %  \n",
      "33            +4.77%    110980      EUR  4.77  %  \n",
      "27            +3.34%  14020000      EUR  3.34  %  \n",
      "\n",
      "Acciones de mayor pérdida\n",
      "    country     name symbol     last    high      low  change  \\\n",
      "5    spain  Acciona    ANA  158.700  166.90  158.700  -8.300   \n",
      "10   spain   Gamesa  SGREN   19.663   21.71   19.648  -2.567   \n",
      "\n",
      "   change_percentage  turnover currency     GP  %  \n",
      "5             -4.97%     68770      EUR  -4.97  %  \n",
      "10           -11.55%   1700000      EUR -11.55  %  \n"
     ]
    },
    {
     "data": {
      "image/png": "[encoded data removed]",
      "text/plain": [
       "<Figure size 432x288 with 1 Axes>"
      ]
     },
     "metadata": {
      "needs_background": "light"
     },
     "output_type": "display_data"
    },
    {
     "data": {
      "text/plain": [
       "' invest.visualizarBD()\\ninvest.visualizarDF() '"
      ]
     },
     "execution_count": 13,
     "metadata": {},
     "output_type": "execute_result"
    }
   ],
   "source": [
    "class investPy(Origen):\n",
    "\n",
    "    def __init__(self):\n",
    "        super().__init__()\n",
    "        self.campo_nombre = 'symbol'\n",
    "        self.campo_valorMaximo = 'high'\n",
    "        self.campo_valorMinimo = 'low'\n",
    "        self.campo_UltimoPrecio = 'last'\n",
    "        self.campo_cambio = 'DP'\n",
    "\n",
    "    def actualizarBD(self):\n",
    "        df = investpy.stocks.get_stocks_overview(country='spain', as_json = False , n_results = 35)  \n",
    "        df = self.__porcentajeCambio(df)\n",
    "        #cambiar la columna a numérica\n",
    "        df['GP'] = df['GP'].apply(pd.to_numeric)\n",
    "        self._guardarEnBD(df)\n",
    "    \n",
    "    def __porcentajeCambio(self, df):\n",
    "        return df.join(df['change_percentage'].str.partition('%')[[0, 1]]).rename({0: 'GP', 1: '%'}, axis=1)\n",
    "\n",
    "invest = investPy()\n",
    "invest.actualizarBD()\n",
    "invest.filtrarAcciones(nombreDeAcciones)\n",
    "df_Invest = invest.visualizarDF()\n",
    "invest.gananciaPerdidaAcciones(df_Invest,'GP',2)\n",
    "invest.graficarGananciaPerdida(df_Invest, x='symbol', y='GP', titulo='Bolsa de España (Investing.com). Ganancia o pérdida de las acciones', nombre='Ganan_perd_Investpy.png')\n",
    "\"\"\" invest.visualizarBD()\n",
    "invest.visualizarDF() \"\"\"\n"
   ]
  },
  {
   "cell_type": "code",
   "execution_count": 624,
   "metadata": {},
   "outputs": [],
   "source": [
    "class Cotizaciones(bolsaMadrid, yfinance, investPy):\n",
    "\n",
    "    def __init__(self, acciones):\n",
    "        self.acciones = acciones\n",
    "        self.actualizarBD()\n",
    "       \n",
    "\n",
    "    def actualizarBD(self):\n",
    "        bolsaMadrid.obtenerDatos(self)\n",
    "        yfinance.obtenerDatos(self.acciones)\n",
    "        ##investpy.obtenerDatos(self)\n",
    "\n",
    "    def leerDatos():\n",
    "        pass"
   ]
  },
  {
   "cell_type": "code",
   "execution_count": 625,
   "metadata": {},
   "outputs": [
    {
     "ename": "AttributeError",
     "evalue": "type object 'bolsaMadrid' has no attribute 'obtenerDatos'",
     "output_type": "error",
     "traceback": [
      "\u001b[1;31m---------------------------------------------------------------------------\u001b[0m",
      "\u001b[1;31mAttributeError\u001b[0m                            Traceback (most recent call last)",
      "\u001b[1;32m~\\AppData\\Local\\Temp/ipykernel_19620/278822538.py\u001b[0m in \u001b[0;36m<module>\u001b[1;34m\u001b[0m\n\u001b[0;32m      1\u001b[0m \u001b[0macciones\u001b[0m \u001b[1;33m=\u001b[0m \u001b[1;33m[\u001b[0m\u001b[1;34m'ACCIONA'\u001b[0m\u001b[1;33m,\u001b[0m \u001b[1;34m'BBVA'\u001b[0m\u001b[1;33m,\u001b[0m \u001b[1;34m'GRIFOLS CL.A'\u001b[0m\u001b[1;33m,\u001b[0m \u001b[1;34m'PEPITO'\u001b[0m\u001b[1;33m,\u001b[0m \u001b[1;34m'REPSOL'\u001b[0m\u001b[1;33m,\u001b[0m \u001b[1;34m'ENDESA'\u001b[0m\u001b[1;33m]\u001b[0m\u001b[1;33m\u001b[0m\u001b[1;33m\u001b[0m\u001b[0m\n\u001b[1;32m----> 2\u001b[1;33m \u001b[0mcotizaciones\u001b[0m \u001b[1;33m=\u001b[0m \u001b[0mCotizaciones\u001b[0m\u001b[1;33m(\u001b[0m\u001b[0macciones\u001b[0m\u001b[1;33m)\u001b[0m\u001b[1;33m\u001b[0m\u001b[1;33m\u001b[0m\u001b[0m\n\u001b[0m\u001b[0;32m      3\u001b[0m \u001b[0mcotizaciones\u001b[0m\u001b[1;33m.\u001b[0m\u001b[0mmostrarDatosEnPantalla\u001b[0m\u001b[1;33m(\u001b[0m\u001b[1;33m)\u001b[0m\u001b[1;33m\u001b[0m\u001b[1;33m\u001b[0m\u001b[0m\n",
      "\u001b[1;32m~\\AppData\\Local\\Temp/ipykernel_19620/775174475.py\u001b[0m in \u001b[0;36m__init__\u001b[1;34m(self, acciones)\u001b[0m\n\u001b[0;32m      3\u001b[0m     \u001b[1;32mdef\u001b[0m \u001b[0m__init__\u001b[0m\u001b[1;33m(\u001b[0m\u001b[0mself\u001b[0m\u001b[1;33m,\u001b[0m \u001b[0macciones\u001b[0m\u001b[1;33m)\u001b[0m\u001b[1;33m:\u001b[0m\u001b[1;33m\u001b[0m\u001b[1;33m\u001b[0m\u001b[0m\n\u001b[0;32m      4\u001b[0m         \u001b[0mself\u001b[0m\u001b[1;33m.\u001b[0m\u001b[0macciones\u001b[0m \u001b[1;33m=\u001b[0m \u001b[0macciones\u001b[0m\u001b[1;33m\u001b[0m\u001b[1;33m\u001b[0m\u001b[0m\n\u001b[1;32m----> 5\u001b[1;33m         \u001b[0mself\u001b[0m\u001b[1;33m.\u001b[0m\u001b[0mactualizarBD\u001b[0m\u001b[1;33m(\u001b[0m\u001b[1;33m)\u001b[0m\u001b[1;33m\u001b[0m\u001b[1;33m\u001b[0m\u001b[0m\n\u001b[0m\u001b[0;32m      6\u001b[0m \u001b[1;33m\u001b[0m\u001b[0m\n\u001b[0;32m      7\u001b[0m \u001b[1;33m\u001b[0m\u001b[0m\n",
      "\u001b[1;32m~\\AppData\\Local\\Temp/ipykernel_19620/775174475.py\u001b[0m in \u001b[0;36mactualizarBD\u001b[1;34m(self)\u001b[0m\n\u001b[0;32m      7\u001b[0m \u001b[1;33m\u001b[0m\u001b[0m\n\u001b[0;32m      8\u001b[0m     \u001b[1;32mdef\u001b[0m \u001b[0mactualizarBD\u001b[0m\u001b[1;33m(\u001b[0m\u001b[0mself\u001b[0m\u001b[1;33m)\u001b[0m\u001b[1;33m:\u001b[0m\u001b[1;33m\u001b[0m\u001b[1;33m\u001b[0m\u001b[0m\n\u001b[1;32m----> 9\u001b[1;33m         \u001b[0mbolsaMadrid\u001b[0m\u001b[1;33m.\u001b[0m\u001b[0mobtenerDatos\u001b[0m\u001b[1;33m(\u001b[0m\u001b[0mself\u001b[0m\u001b[1;33m)\u001b[0m\u001b[1;33m\u001b[0m\u001b[1;33m\u001b[0m\u001b[0m\n\u001b[0m\u001b[0;32m     10\u001b[0m         \u001b[0myfinance\u001b[0m\u001b[1;33m.\u001b[0m\u001b[0mobtenerDatos\u001b[0m\u001b[1;33m(\u001b[0m\u001b[0mself\u001b[0m\u001b[1;33m.\u001b[0m\u001b[0macciones\u001b[0m\u001b[1;33m)\u001b[0m\u001b[1;33m\u001b[0m\u001b[1;33m\u001b[0m\u001b[0m\n\u001b[0;32m     11\u001b[0m         \u001b[1;31m##investpy.obtenerDatos(self)\u001b[0m\u001b[1;33m\u001b[0m\u001b[1;33m\u001b[0m\u001b[1;33m\u001b[0m\u001b[0m\n",
      "\u001b[1;31mAttributeError\u001b[0m: type object 'bolsaMadrid' has no attribute 'obtenerDatos'"
     ]
    }
   ],
   "source": [
    "acciones = ['ACCIONA', 'BBVA', 'GRIFOLS CL.A', 'PEPITO', 'REPSOL', 'ENDESA']\n",
    "cotizaciones = Cotizaciones(acciones)\n",
    "cotizaciones.mostrarDatosEnPantalla()\n"
   ]
  }
 ],
 "metadata": {
  "interpreter": {
   "hash": "11ffc019a02cc0e21e59860b66c88ea81995ce9237607e8ab2c087a287ee4867"
  },
  "kernelspec": {
   "display_name": "Python 3.8.8 64-bit ('base': conda)",
   "name": "python3"
  },
  "language_info": {
   "codemirror_mode": {
    "name": "ipython",
    "version": 3
   },
   "file_extension": ".py",
   "mimetype": "text/x-python",
   "name": "python",
   "nbconvert_exporter": "python",
   "pygments_lexer": "ipython3",
   "version": "3.8.8"
  }
 },
 "nbformat": 4,
 "nbformat_minor": 2
}
