{
 "cells": [
  {
   "cell_type": "code",
   "execution_count": 5,
   "metadata": {},
   "outputs": [],
   "source": [
    "import pandas as pd\n",
    "import requests\n",
    "from bs4 import BeautifulSoup\n",
    "\n",
    "class bolsaMadrid():\n",
    "\n",
    "   def __init__(self):\n",
    "       pass\n",
    "   \n",
    "   def obtenerDatos(self):\n",
    "    #Hacemos la consulta a la pagina y guardamos el contenido en una variable soup\n",
    "    url_page = 'https://www.bolsamadrid.es/esp/aspx/Mercados/Precios.aspx?indice=ESI100000000'\n",
    "    page = requests.get(url_page).text \n",
    "    soup = BeautifulSoup(page, \"lxml\")\n",
    "\n",
    "    #Buscamos la tabla de donde obtener los datos\n",
    "    tabla = soup.find('table', attrs={'id': 'ctl00_Contenido_tblAcciones'})\n",
    "\n",
    "    #creamos una lista vacia que llenaremos con los datos de las tablas\n",
    "    columnas = []\n",
    "\n",
    "    #buscamos los encabezados de la tabla y los agregamos a la lista columnos (deberia ubicarse en la posicion 0)\n",
    "    header = []\n",
    "    for th in tabla.find_all('th'):\n",
    "        header.append(th.text)\n",
    "    columnas.append(header)\n",
    "\n",
    "    for tr in tabla.find_all('tr'):\n",
    "        fila = []\n",
    "        for td in tr.find_all('td'):\n",
    "            fila.append(td.text)\n",
    "        if len(fila) > 0:\n",
    "            columnas.append(fila)\n",
    "            \n",
    "    #creamos el dataframe usando la lista columnas,pasamos el contenido (de la posicion 1 en adelante), y lo encabezados en (posicion 0)\n",
    "    df = pd.DataFrame(columnas[1:], columns=columnas[0])\n",
    "\n",
    "    #Reemplazamos la , por un . y convertimos en float\n",
    "    df[\"% Dif.\"] = df[\"% Dif.\"].str.replace(\",\", \".\").astype(float)\n",
    "    df[\"Máx.\"] = df[\"Máx.\"].str.replace(\",\", \".\").astype(float)\n",
    "    df[\"Mín.\"] = df[\"Mín.\"].str.replace(\",\", \".\").astype(float)\n",
    "    df[\"Últ.\"] = df[\"Últ.\"].str.replace(\",\", \".\").astype(float)\n",
    "    \n",
    "    #Guardamos en el archivo csv\n",
    "\n",
    "    df.to_csv('bolsaMadrid.csv')\n",
    "\n",
    "   def mostrarDatosEnPantalla(self):\n",
    "   #Mostrar tabla en pantalla usando BeautiFoul Soup\n",
    "      print('')\n",
    "      print('TABLA DE DATOS BOLSA DE MADRID (USANDO BS4)')\n",
    "      df_bolsaMadrid = pd.read_csv('bolsaMadrid.csv')\n",
    "      accionesAevaluarB = ['ACCIONA', 'BBVA', 'GRIFOLS CL.A', 'ENDESA', 'REPSOL']\n",
    "      df_bolsaMadrid = df_bolsaMadrid[df_bolsaMadrid.Nombre.isin(accionesAevaluarB)]\n",
    "      print(df_bolsaMadrid)\n",
    "\n",
    "class yfinance():\n",
    "\n",
    "   def __init__(self):\n",
    "       pass\n",
    "\n",
    "class investpy():\n",
    "\n",
    "   def __init__(self):\n",
    "      pass\n",
    "\n",
    "   def extraerDatos():\n",
    "      pass\n",
    "\n",
    "\n",
    "class Cotizaciones(bolsaMadrid, yfinance, investpy):\n",
    "\n",
    "   def __init__(self):\n",
    "       pass\n",
    "\n",
    "   def cargarTodas(self):\n",
    "      self.obtenerDatos()\n",
    "\n",
    "   def leerDatos():\n",
    "      pass\n"
   ]
  },
  {
   "cell_type": "code",
   "execution_count": 4,
   "metadata": {},
   "outputs": [
    {
     "name": "stdout",
     "output_type": "stream",
     "text": [
      "\n",
      "TABLA DE DATOS BOLSA DE MADRID (USANDO BS4)\n",
      "    Unnamed: 0        Nombre     Últ.  % Dif.     Máx.     Mín.     Volumen  \\\n",
      "0            0       ACCIONA  161.100    2.09  162.200  157.900     129.637   \n",
      "10          10          BBVA    5.686    0.44    5.727    5.632  15.533.697   \n",
      "15          15        ENDESA   19.065   -0.05   19.225   18.960   1.722.285   \n",
      "18          18  GRIFOLS CL.A   20.200   -0.93   20.540   20.150     717.568   \n",
      "30          30        REPSOL   11.466    0.12   11.570   11.422   3.142.779   \n",
      "\n",
      "   Efectivo (miles €)       Fecha    Hora  \n",
      "0           20.861,46  22/10/2021  Cierre  \n",
      "10          88.217,73  22/10/2021  Cierre  \n",
      "15          32.835,29  22/10/2021  Cierre  \n",
      "18          14.547,96  22/10/2021  Cierre  \n",
      "30          36.098,46  22/10/2021  Cierre  \n"
     ]
    }
   ],
   "source": [
    "cotizaciones = Cotizaciones()\n",
    "cotizaciones.cargarTodas()\n",
    "cotizaciones.mostrarDatosEnPantalla()\n"
   ]
  }
 ],
 "metadata": {
  "interpreter": {
   "hash": "b1cbc199116ca0050f15b4a096ee5586221393ef42f89efdf0ba89fccf25361f"
  },
  "kernelspec": {
   "display_name": "Python 3.8.8 64-bit ('base': conda)",
   "name": "python3"
  },
  "language_info": {
   "codemirror_mode": {
    "name": "ipython",
    "version": 3
   },
   "file_extension": ".py",
   "mimetype": "text/x-python",
   "name": "python",
   "nbconvert_exporter": "python",
   "pygments_lexer": "ipython3",
   "version": "3.8.8"
  },
  "orig_nbformat": 4
 },
 "nbformat": 4,
 "nbformat_minor": 2
}
