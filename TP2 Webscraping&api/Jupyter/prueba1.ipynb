{
 "cells": [
  {
   "cell_type": "code",
   "execution_count": 594,
   "metadata": {},
   "outputs": [],
   "source": [
    "import pandas as pd\n",
    "import requests\n",
    "import yfinance as yf\n",
    "import investpy\n",
    "from bs4 import BeautifulSoup\n",
    "from pymongo import MongoClient"
   ]
  },
  {
   "cell_type": "code",
   "execution_count": 595,
   "metadata": {},
   "outputs": [],
   "source": [
    "class Accion:\n",
    "    def __init__(self, mercado, datosAccion):\n",
    "        self.nombre = datosAccion[mercado.campo_nombre]\n",
    "        self.max = datosAccion[mercado.campo_valorMaximo]\n",
    "        self.min = datosAccion[mercado.campo_valorMinimo]\n",
    "        self.ult = datosAccion[mercado.campo_UltimoPrecio]\n",
    "        self.mov = datosAccion[mercado.campo_cambio]\n",
    "        \n",
    "class Origen:\n",
    "    def __init__(self):\n",
    "       self.__abrirColeccion()\n",
    "\n",
    "    def __abrirColeccion(self):\n",
    "        client = MongoClient('localhost')\n",
    "        bd = client['cotizaciones']\n",
    "        self.coleccion = bd[self.__class__.__name__]\n",
    "        \n",
    "    def _guardarEnBD(self, dataFrame):\n",
    "        self.coleccion.drop()\n",
    "        self.coleccion.insert_many(dataFrame.to_dict('records'))\n",
    "        \n",
    "    def visualizarBD(self):\n",
    "        for documento in self.coleccion.find({}):\n",
    "            print(documento)\n",
    "            \n",
    "    def visualizarDF(self):\n",
    "        df = self.__documentADF(self.coleccion.find({}))\n",
    "        print (df)\n",
    "\n",
    "    def __documentADF(self, listColeccion):\n",
    "        df = pd.DataFrame(list(listColeccion))\n",
    "        return df.drop(['_id'], axis=1)\n",
    "        \n",
    "    def __cotizacionMinima(self):\n",
    "        pass\n",
    "    def __cotizacionMaxima(self):\n",
    "        pass\n",
    "\n",
    "    def filtrarAcciones(self, nombreAccion):\n",
    "        accion = self.coleccion.find({self.campo_nombre: {\"$in\": nombreAccion}})\n",
    "        return print(self.__documentADF(accion))\n",
    "\n",
    "    def accion(self, symbol):\n",
    "        return Accion(self, self.coleccion.find_one({self.campo_nombre: symbol}))"
   ]
  },
  {
   "cell_type": "code",
   "execution_count": 596,
   "metadata": {},
   "outputs": [
    {
     "name": "stdout",
     "output_type": "stream",
     "text": [
      "         Nombre    Últ.  % Dif.    Máx.    Mín.    Volumen Efectivo (miles €)  \\\n",
      "0          BBVA   6.168   -1.77   6.254   6.141  6.889.397          42.610,47   \n",
      "1        ENDESA  20.040   -0.20  20.140  19.960    430.930           8.641,46   \n",
      "2  GRIFOLS CL.A  19.715   -0.30  19.815  19.595    437.761           8.618,27   \n",
      "3        REPSOL  10.854   -1.49  11.000  10.764  2.843.946          30.866,29   \n",
      "\n",
      "        Fecha      Hora  \n",
      "0  02/11/2021  15:40:24  \n",
      "1  02/11/2021  15:38:09  \n",
      "2  02/11/2021  15:40:10  \n",
      "3  02/11/2021  15:40:22  \n",
      "-1.77\n"
     ]
    }
   ],
   "source": [
    "       \n",
    "class bolsaMadrid(Origen):\n",
    "    campo_nombre = 'Nombre'\n",
    "    campo_valorMaximo = 'Máx.'\n",
    "    campo_valorMinimo = 'Mín.'\n",
    "    campo_UltimoPrecio = 'Últ.'\n",
    "    campo_cambio = '% Dif.'\n",
    "    \n",
    "    def actualizarBD(self):\n",
    "        #Hacemos la consulta a la pagina y guardamos el contenido en una variable soup\n",
    "        url_page = 'https://www.bolsamadrid.es/esp/aspx/Mercados/Precios.aspx?indice=ESI100000000'\n",
    "        page = requests.get(url_page).text \n",
    "        soup = BeautifulSoup(page, \"lxml\")\n",
    "\n",
    "        #Buscamos la tabla de donde obtener los datos\n",
    "        tabla = soup.find('table', attrs={'id': 'ctl00_Contenido_tblAcciones'})\n",
    "\n",
    "        #creamos una lista vacia que llenaremos con los datos de las tablas\n",
    "        columnas = []\n",
    "\n",
    "        #buscamos los encabezados de la tabla y los agregamos a la lista columnos (deberia ubicarse en la posicion 0)\n",
    "        headers = []\n",
    "        for th in tabla.find_all('th'):\n",
    "            headers.append(th.text)\n",
    "        columnas.append(headers)\n",
    "\n",
    "        for tr in tabla.find_all('tr'):\n",
    "            fila = []\n",
    "            for td in tr.find_all('td'):\n",
    "                fila.append(td.text)\n",
    "            if len(fila) > 0:\n",
    "                columnas.append(fila)\n",
    "                \n",
    "        #creamos el dataframe usando la lista columnas,pasamos el contenido (de la posicion 1 en adelante), y lo encabezados en (posicion 0)\n",
    "        df = pd.DataFrame(columnas[1:], columns=columnas[0])\n",
    "\n",
    "        #Convertirmos a float\n",
    "        df = self.__convertirAFloat(df)\n",
    "\n",
    "        #Guardamos los datos en la base de datos\n",
    "        self._guardarEnBD(df)\n",
    "        \n",
    "    def __convertirAFloat(self, df):\n",
    "        df[\"% Dif.\"] = df[\"% Dif.\"].str.replace(\",\", \".\").astype(float)\n",
    "        df[\"Máx.\"] = df[\"Máx.\"].str.replace(\",\", \".\").astype(float)\n",
    "        df[\"Mín.\"] = df[\"Mín.\"].str.replace(\",\", \".\").astype(float)\n",
    "        df[\"Últ.\"] = df[\"Últ.\"].str.replace(\",\", \".\").astype(float)\n",
    "        return df\n",
    "\n",
    "nombreDeAcciones =[\n",
    "    'BBVA', \"BBVA.MC\",\n",
    "    'ELE', \"ELE.MC\", 'ENDESA',\n",
    "    'GRLS', \"GRF.MC\", 'GRIFOLS CL.A',\n",
    "    'IDR', \"IDR.MC\", 'INDRA A'\n",
    "    'REP', \"REP.MC\", 'REPSOL'\n",
    "    ]\n",
    "\n",
    "bolsamadrid = bolsaMadrid()\n",
    "bolsamadrid.actualizarBD()\n",
    "#bolsamadrid.visualizarDF()\n",
    "bolsamadrid.filtrarAcciones(nombreDeAcciones)\n",
    "accion = bolsamadrid.accion('BBVA')\n",
    "print(accion.mov)"
   ]
  },
  {
   "cell_type": "code",
   "execution_count": 597,
   "metadata": {},
   "outputs": [
    {
     "name": "stdout",
     "output_type": "stream",
     "text": [
      "[*********************100%***********************]  1 of 1 completed\n",
      "[*********************100%***********************]  1 of 1 completed\n",
      "[*********************100%***********************]  1 of 1 completed\n",
      "[*********************100%***********************]  1 of 1 completed\n",
      "[*********************100%***********************]  1 of 1 completed\n",
      "{'_id': ObjectId('618151715bc14ce365e80e4f'), 'Open': 6.202000141143799, 'High': 6.254000186920166, 'Low': 6.140999794006348, 'Close': 6.171000003814697, 'Adj Close': 6.171000003814697, 'Volume': 6891905, 'Ticker': 'BBVA.MC', 'Dif': -0.49984096458572935}\n",
      "{'_id': ObjectId('618151715bc14ce365e80e50'), 'Open': 20.040000915527344, 'High': 20.139999389648438, 'Low': 19.959999084472656, 'Close': 20.040000915527344, 'Adj Close': 20.040000915527344, 'Volume': 430930, 'Ticker': 'ELE.MC', 'Dif': 0.0}\n",
      "{'_id': ObjectId('618151715bc14ce365e80e51'), 'Open': 19.799999237060547, 'High': 19.815000534057617, 'Low': 19.594999313354492, 'Close': 19.71500015258789, 'Adj Close': 19.71500015258789, 'Volume': 437761, 'Ticker': 'GRF.MC', 'Dif': -0.4292883219589214}\n",
      "{'_id': ObjectId('618151715bc14ce365e80e52'), 'Open': 10.369999885559082, 'High': 10.449999809265137, 'Low': 10.289999961853027, 'Close': 10.399999618530273, 'Adj Close': 10.399999618530273, 'Volume': 274800, 'Ticker': 'IDR.MC', 'Dif': 0.28929347446732834}\n",
      "{'_id': ObjectId('618151715bc14ce365e80e53'), 'Open': 11.0, 'High': 11.0, 'Low': 10.763999938964844, 'Close': 10.854000091552734, 'Adj Close': 10.854000091552734, 'Volume': 2844796, 'Ticker': 'REP.MC', 'Dif': -1.3272718949751408}\n",
      "        Open       High        Low      Close  Adj Close   Volume   Ticker  \\\n",
      "0   6.202000   6.254000   6.141000   6.171000   6.171000  6891905  BBVA.MC   \n",
      "1  20.040001  20.139999  19.959999  20.040001  20.040001   430930   ELE.MC   \n",
      "2  19.799999  19.815001  19.594999  19.715000  19.715000   437761   GRF.MC   \n",
      "3  10.370000  10.450000  10.290000  10.400000  10.400000   274800   IDR.MC   \n",
      "4  11.000000  11.000000  10.764000  10.854000  10.854000  2844796   REP.MC   \n",
      "\n",
      "        Dif  \n",
      "0 -0.499841  \n",
      "1  0.000000  \n",
      "2 -0.429288  \n",
      "3  0.289293  \n",
      "4 -1.327272  \n"
     ]
    }
   ],
   "source": [
    "class yfinance(Origen):\n",
    "\n",
    "    def __init__(self):\n",
    "        super().__init__()\n",
    "        self.campo_nombre = 'Ticker'\n",
    "        self.campo_valorMaximo = 'High'\n",
    "        self.campo_valorMinimo = 'Low'\n",
    "        self.campo_UltimoPrecio = 'Close'\n",
    "        self.campo_cambio = 'Dif'\n",
    "\n",
    "    def actualizarBD(self, acciones):\n",
    "        df_list = list()\n",
    "        for accion in acciones:\n",
    "            if not \" \" in accion and \".MC\" in accion:\n",
    "                data = yf.download(accion, group_by='ticker', period='1d')\n",
    "                if not data.empty:\n",
    "                    data['Ticker'] = accion\n",
    "                    data['Dif'] = self.__calcularDiferencia(data['Open'], data['Close'])\n",
    "                    df_list.append(data)\n",
    "\n",
    "        if len(df_list) > 0:\n",
    "            df = pd.concat(df_list)\n",
    "            self._guardarEnBD(df)\n",
    "    \n",
    "    def __calcularDiferencia(self, A, B):\n",
    "        return (B*100)/A-100\n",
    "\n",
    "yahooFinance = yfinance()\n",
    "yahooFinance.actualizarBD(nombreDeAcciones)\n",
    "yahooFinance.visualizarBD()\n",
    "yahooFinance.visualizarDF()\n"
   ]
  },
  {
   "cell_type": "code",
   "execution_count": 598,
   "metadata": {},
   "outputs": [
    {
     "name": "stdout",
     "output_type": "stream",
     "text": [
      "  country     name symbol    last    high     low  change change_percentage  \\\n",
      "0   spain     BBVA   BBVA   6.168   6.254   6.140  -0.111            -1.77%   \n",
      "1   spain  Grifols   GRLS  19.755  19.809  19.602  +0.025            +0.13%   \n",
      "2   spain  Indra A    IDR  10.405  10.460  10.295  -0.005            -0.05%   \n",
      "3   spain   Endesa    ELE  20.029  20.135  19.954  -0.051            -0.25%   \n",
      "\n",
      "   turnover currency    GP  %  \n",
      "0   6890000      EUR -1.77  %  \n",
      "1    437760      EUR  0.13  %  \n",
      "2    271440      EUR -0.05  %  \n",
      "3    430930      EUR -0.25  %  \n"
     ]
    },
    {
     "data": {
      "text/plain": [
       "' invest.visualizarBD()\\ninvest.visualizarDF() '"
      ]
     },
     "execution_count": 598,
     "metadata": {},
     "output_type": "execute_result"
    }
   ],
   "source": [
    "class investPy(Origen):\n",
    "\n",
    "    def __init__(self):\n",
    "        super().__init__()\n",
    "        self.campo_nombre = 'symbol'\n",
    "        self.campo_valorMaximo = 'high'\n",
    "        self.campo_valorMinimo = 'low'\n",
    "        self.campo_UltimoPrecio = 'last'\n",
    "        self.campo_cambio = 'DP'\n",
    "\n",
    "    def actualizarBD(self):\n",
    "        df = investpy.stocks.get_stocks_overview(country='spain', as_json = False , n_results = 35)  \n",
    "        df = self.__porcentajeCambio(df)\n",
    "        #cambiar la columna a numérica\n",
    "        df['GP'] = df['GP'].apply(pd.to_numeric)\n",
    "        self._guardarEnBD(df)\n",
    "    \n",
    "    def __porcentajeCambio(self, df):\n",
    "        return df.join(df['change_percentage'].str.partition('%')[[0, 1]]).rename({0: 'GP', 1: '%'}, axis=1)\n",
    "\n",
    "invest = investPy()\n",
    "invest.actualizarBD()\n",
    "invest.filtrarAcciones(nombreDeAcciones)\n",
    "\"\"\" invest.visualizarBD()\n",
    "invest.visualizarDF() \"\"\"\n"
   ]
  },
  {
   "cell_type": "code",
   "execution_count": 599,
   "metadata": {},
   "outputs": [
    {
     "ename": "TypeError",
     "evalue": "metaclass conflict: the metaclass of a derived class must be a (non-strict) subclass of the metaclasses of all its bases",
     "output_type": "error",
     "traceback": [
      "\u001b[1;31m---------------------------------------------------------------------------\u001b[0m",
      "\u001b[1;31mTypeError\u001b[0m                                 Traceback (most recent call last)",
      "\u001b[1;32m~\\AppData\\Local\\Temp/ipykernel_19620/4165753299.py\u001b[0m in \u001b[0;36m<module>\u001b[1;34m\u001b[0m\n\u001b[1;32m----> 1\u001b[1;33m \u001b[1;32mclass\u001b[0m \u001b[0mCotizaciones\u001b[0m\u001b[1;33m(\u001b[0m\u001b[0mbolsaMadrid\u001b[0m\u001b[1;33m,\u001b[0m \u001b[0myfinance\u001b[0m\u001b[1;33m,\u001b[0m \u001b[0minvestpy\u001b[0m\u001b[1;33m)\u001b[0m\u001b[1;33m:\u001b[0m\u001b[1;33m\u001b[0m\u001b[1;33m\u001b[0m\u001b[0m\n\u001b[0m\u001b[0;32m      2\u001b[0m \u001b[1;33m\u001b[0m\u001b[0m\n\u001b[0;32m      3\u001b[0m     \u001b[1;32mdef\u001b[0m \u001b[0m__init__\u001b[0m\u001b[1;33m(\u001b[0m\u001b[0mself\u001b[0m\u001b[1;33m,\u001b[0m \u001b[0macciones\u001b[0m\u001b[1;33m)\u001b[0m\u001b[1;33m:\u001b[0m\u001b[1;33m\u001b[0m\u001b[1;33m\u001b[0m\u001b[0m\n\u001b[0;32m      4\u001b[0m         \u001b[0mself\u001b[0m\u001b[1;33m.\u001b[0m\u001b[0macciones\u001b[0m \u001b[1;33m=\u001b[0m \u001b[0macciones\u001b[0m\u001b[1;33m\u001b[0m\u001b[1;33m\u001b[0m\u001b[0m\n\u001b[0;32m      5\u001b[0m         \u001b[0mself\u001b[0m\u001b[1;33m.\u001b[0m\u001b[0mactualizarBD\u001b[0m\u001b[1;33m(\u001b[0m\u001b[1;33m)\u001b[0m\u001b[1;33m\u001b[0m\u001b[1;33m\u001b[0m\u001b[0m\n",
      "\u001b[1;31mTypeError\u001b[0m: metaclass conflict: the metaclass of a derived class must be a (non-strict) subclass of the metaclasses of all its bases"
     ]
    }
   ],
   "source": [
    "class Cotizaciones(bolsaMadrid, yfinance, investpy):\n",
    "\n",
    "    def __init__(self, acciones):\n",
    "        self.acciones = acciones\n",
    "        self.actualizarBD()\n",
    "       \n",
    "\n",
    "    def actualizarBD(self):\n",
    "        bolsaMadrid.obtenerDatos(self)\n",
    "        yfinance.obtenerDatos(self.acciones)\n",
    "        ##investpy.obtenerDatos(self)\n",
    "\n",
    "    def leerDatos():\n",
    "        pass"
   ]
  },
  {
   "cell_type": "code",
   "execution_count": null,
   "metadata": {},
   "outputs": [
    {
     "ename": "AttributeError",
     "evalue": "type object 'bolsaMadrid' has no attribute 'obtenerDatos'",
     "output_type": "error",
     "traceback": [
      "\u001b[1;31m---------------------------------------------------------------------------\u001b[0m",
      "\u001b[1;31mAttributeError\u001b[0m                            Traceback (most recent call last)",
      "\u001b[1;32m~\\AppData\\Local\\Temp/ipykernel_19620/278822538.py\u001b[0m in \u001b[0;36m<module>\u001b[1;34m\u001b[0m\n\u001b[0;32m      1\u001b[0m \u001b[0macciones\u001b[0m \u001b[1;33m=\u001b[0m \u001b[1;33m[\u001b[0m\u001b[1;34m'ACCIONA'\u001b[0m\u001b[1;33m,\u001b[0m \u001b[1;34m'BBVA'\u001b[0m\u001b[1;33m,\u001b[0m \u001b[1;34m'GRIFOLS CL.A'\u001b[0m\u001b[1;33m,\u001b[0m \u001b[1;34m'PEPITO'\u001b[0m\u001b[1;33m,\u001b[0m \u001b[1;34m'REPSOL'\u001b[0m\u001b[1;33m,\u001b[0m \u001b[1;34m'ENDESA'\u001b[0m\u001b[1;33m]\u001b[0m\u001b[1;33m\u001b[0m\u001b[1;33m\u001b[0m\u001b[0m\n\u001b[1;32m----> 2\u001b[1;33m \u001b[0mcotizaciones\u001b[0m \u001b[1;33m=\u001b[0m \u001b[0mCotizaciones\u001b[0m\u001b[1;33m(\u001b[0m\u001b[0macciones\u001b[0m\u001b[1;33m)\u001b[0m\u001b[1;33m\u001b[0m\u001b[1;33m\u001b[0m\u001b[0m\n\u001b[0m\u001b[0;32m      3\u001b[0m \u001b[0mcotizaciones\u001b[0m\u001b[1;33m.\u001b[0m\u001b[0mmostrarDatosEnPantalla\u001b[0m\u001b[1;33m(\u001b[0m\u001b[1;33m)\u001b[0m\u001b[1;33m\u001b[0m\u001b[1;33m\u001b[0m\u001b[0m\n",
      "\u001b[1;32m~\\AppData\\Local\\Temp/ipykernel_19620/1129292157.py\u001b[0m in \u001b[0;36m__init__\u001b[1;34m(self, acciones)\u001b[0m\n\u001b[0;32m     12\u001b[0m     \u001b[1;32mdef\u001b[0m \u001b[0m__init__\u001b[0m\u001b[1;33m(\u001b[0m\u001b[0mself\u001b[0m\u001b[1;33m,\u001b[0m \u001b[0macciones\u001b[0m\u001b[1;33m)\u001b[0m\u001b[1;33m:\u001b[0m\u001b[1;33m\u001b[0m\u001b[1;33m\u001b[0m\u001b[0m\n\u001b[0;32m     13\u001b[0m         \u001b[0mself\u001b[0m\u001b[1;33m.\u001b[0m\u001b[0macciones\u001b[0m \u001b[1;33m=\u001b[0m \u001b[0macciones\u001b[0m\u001b[1;33m\u001b[0m\u001b[1;33m\u001b[0m\u001b[0m\n\u001b[1;32m---> 14\u001b[1;33m         \u001b[0mself\u001b[0m\u001b[1;33m.\u001b[0m\u001b[0mactualizarBD\u001b[0m\u001b[1;33m(\u001b[0m\u001b[1;33m)\u001b[0m\u001b[1;33m\u001b[0m\u001b[1;33m\u001b[0m\u001b[0m\n\u001b[0m\u001b[0;32m     15\u001b[0m \u001b[1;33m\u001b[0m\u001b[0m\n\u001b[0;32m     16\u001b[0m \u001b[1;33m\u001b[0m\u001b[0m\n",
      "\u001b[1;32m~\\AppData\\Local\\Temp/ipykernel_19620/1129292157.py\u001b[0m in \u001b[0;36mactualizarBD\u001b[1;34m(self)\u001b[0m\n\u001b[0;32m     16\u001b[0m \u001b[1;33m\u001b[0m\u001b[0m\n\u001b[0;32m     17\u001b[0m     \u001b[1;32mdef\u001b[0m \u001b[0mactualizarBD\u001b[0m\u001b[1;33m(\u001b[0m\u001b[0mself\u001b[0m\u001b[1;33m)\u001b[0m\u001b[1;33m:\u001b[0m\u001b[1;33m\u001b[0m\u001b[1;33m\u001b[0m\u001b[0m\n\u001b[1;32m---> 18\u001b[1;33m         \u001b[0mbolsaMadrid\u001b[0m\u001b[1;33m.\u001b[0m\u001b[0mobtenerDatos\u001b[0m\u001b[1;33m(\u001b[0m\u001b[0mself\u001b[0m\u001b[1;33m)\u001b[0m\u001b[1;33m\u001b[0m\u001b[1;33m\u001b[0m\u001b[0m\n\u001b[0m\u001b[0;32m     19\u001b[0m         \u001b[0myfinance\u001b[0m\u001b[1;33m.\u001b[0m\u001b[0mobtenerDatos\u001b[0m\u001b[1;33m(\u001b[0m\u001b[0mself\u001b[0m\u001b[1;33m.\u001b[0m\u001b[0macciones\u001b[0m\u001b[1;33m)\u001b[0m\u001b[1;33m\u001b[0m\u001b[1;33m\u001b[0m\u001b[0m\n\u001b[0;32m     20\u001b[0m         \u001b[1;31m##investpy.obtenerDatos(self)\u001b[0m\u001b[1;33m\u001b[0m\u001b[1;33m\u001b[0m\u001b[1;33m\u001b[0m\u001b[0m\n",
      "\u001b[1;31mAttributeError\u001b[0m: type object 'bolsaMadrid' has no attribute 'obtenerDatos'"
     ]
    }
   ],
   "source": [
    "acciones = ['ACCIONA', 'BBVA', 'GRIFOLS CL.A', 'PEPITO', 'REPSOL', 'ENDESA']\n",
    "cotizaciones = Cotizaciones(acciones)\n",
    "cotizaciones.mostrarDatosEnPantalla()\n"
   ]
  }
 ],
 "metadata": {
  "interpreter": {
   "hash": "b1cbc199116ca0050f15b4a096ee5586221393ef42f89efdf0ba89fccf25361f"
  },
  "kernelspec": {
   "display_name": "Python 3.8.8 64-bit ('base': conda)",
   "name": "python3"
  },
  "language_info": {
   "codemirror_mode": {
    "name": "ipython",
    "version": 3
   },
   "file_extension": ".py",
   "mimetype": "text/x-python",
   "name": "python",
   "nbconvert_exporter": "python",
   "pygments_lexer": "ipython3",
   "version": "3.8.8"
  },
  "orig_nbformat": 4
 },
 "nbformat": 4,
 "nbformat_minor": 2
}
