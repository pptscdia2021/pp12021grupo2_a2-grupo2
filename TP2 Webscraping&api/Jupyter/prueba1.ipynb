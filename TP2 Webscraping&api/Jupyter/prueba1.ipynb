{
 "cells": [
  {
   "cell_type": "code",
   "execution_count": 329,
   "metadata": {},
   "outputs": [],
   "source": [
    "import pandas as pd\n",
    "import requests\n",
    "import yfinance as yf\n",
    "from bs4 import BeautifulSoup\n",
    "from pymongo import MongoClient"
   ]
  },
  {
   "cell_type": "code",
   "execution_count": 330,
   "metadata": {},
   "outputs": [],
   "source": [
    "class Accion:\n",
    "    def __init__(self, mercado, datosAccion):\n",
    "        self.nombre = datosAccion[mercado.campo_nombre]\n",
    "        self.max = datosAccion[mercado.campo_valorMaximo]\n",
    "        self.min = datosAccion[mercado.campo_valorMinimo]\n",
    "        self.ult = datosAccion[mercado.campo_UltimoPrecio]\n",
    "        self.mov = datosAccion[mercado.campo_cambio]\n",
    "        \n",
    "class Origen:\n",
    "    def __init__(self):\n",
    "       self.__abrirColeccion()\n",
    "\n",
    "    def __abrirColeccion(self):\n",
    "        client = MongoClient('localhost')\n",
    "        bd = client['cotizaciones']\n",
    "        self.coleccion = bd[self.__class__.__name__]\n",
    "        \n",
    "    def _guardarEnBD(self, dataFrame):\n",
    "        self.coleccion.drop()\n",
    "        self.coleccion.insert_many(dataFrame.to_dict('records'))\n",
    "        \n",
    "    def visualizarBD(self):\n",
    "        for documento in self.coleccion.find({}):\n",
    "            print(documento)\n",
    "            \n",
    "    def visualizarDF(self):\n",
    "        df = self.__documentADF(self.coleccion.find({}))\n",
    "        print (df)\n",
    "\n",
    "    def __documentADF(self, listColeccion):\n",
    "        df = pd.DataFrame(list(listColeccion))\n",
    "        return df.drop(['_id'], axis=1)\n",
    "        \n",
    "    def __cotizacionMinima(self):\n",
    "        pass\n",
    "    def __cotizacionMaxima(self):\n",
    "        pass\n",
    "\n",
    "    def filtrarAcciones(self, nombreAccion):\n",
    "        accion = self.coleccion.find({self.campo_nombre: {\"$in\": nombreAccion}})\n",
    "        return print(self.__documentADF(accion))\n",
    "\n",
    "    def accion(self, symbol):\n",
    "        return Accion(self, self.coleccion.find_one({self.campo_nombre: symbol}))"
   ]
  },
  {
   "cell_type": "code",
   "execution_count": 331,
   "metadata": {},
   "outputs": [
    {
     "name": "stdout",
     "output_type": "stream",
     "text": [
      "         Nombre    Últ.  % Dif.    Máx.    Mín.     Volumen  \\\n",
      "0          BBVA   6.279    3.58   6.292   6.030  19.040.383   \n",
      "1        ENDESA  20.080    0.68  20.080  19.890   2.812.273   \n",
      "2  GRIFOLS CL.A  19.775   -0.10  20.000  19.675     567.489   \n",
      "3       INDRA A  10.410   -0.38  10.580  10.340     793.334   \n",
      "4        REPSOL  11.018   -0.34  11.184  11.000   8.729.704   \n",
      "\n",
      "  Efectivo (miles €)       Fecha    Hora  \n",
      "0         118.738,74  01/11/2021  Cierre  \n",
      "1          56.162,16  01/11/2021  Cierre  \n",
      "2          11.232,60  01/11/2021  Cierre  \n",
      "3           8.290,58  01/11/2021  Cierre  \n",
      "4          96.608,64  01/11/2021  Cierre  \n",
      "3.58\n"
     ]
    }
   ],
   "source": [
    "       \n",
    "class bolsaMadrid(Origen):\n",
    "    campo_nombre = 'Nombre'\n",
    "    campo_valorMaximo = 'Máx.'\n",
    "    campo_valorMinimo = 'Mín.'\n",
    "    campo_UltimoPrecio = 'Últ.'\n",
    "    campo_cambio = '% Dif.'\n",
    "    \n",
    "    def actualizarBD(self):\n",
    "        #Hacemos la consulta a la pagina y guardamos el contenido en una variable soup\n",
    "        url_page = 'https://www.bolsamadrid.es/esp/aspx/Mercados/Precios.aspx?indice=ESI100000000'\n",
    "        page = requests.get(url_page).text \n",
    "        soup = BeautifulSoup(page, \"lxml\")\n",
    "\n",
    "        #Buscamos la tabla de donde obtener los datos\n",
    "        tabla = soup.find('table', attrs={'id': 'ctl00_Contenido_tblAcciones'})\n",
    "\n",
    "        #creamos una lista vacia que llenaremos con los datos de las tablas\n",
    "        columnas = []\n",
    "\n",
    "        #buscamos los encabezados de la tabla y los agregamos a la lista columnos (deberia ubicarse en la posicion 0)\n",
    "        headers = []\n",
    "        for th in tabla.find_all('th'):\n",
    "            headers.append(th.text)\n",
    "        columnas.append(headers)\n",
    "\n",
    "        for tr in tabla.find_all('tr'):\n",
    "            fila = []\n",
    "            for td in tr.find_all('td'):\n",
    "                fila.append(td.text)\n",
    "            if len(fila) > 0:\n",
    "                columnas.append(fila)\n",
    "                \n",
    "        #creamos el dataframe usando la lista columnas,pasamos el contenido (de la posicion 1 en adelante), y lo encabezados en (posicion 0)\n",
    "        df = pd.DataFrame(columnas[1:], columns=columnas[0])\n",
    "\n",
    "        #Convertirmos a float\n",
    "        df = self.__convertirAFloat(df)\n",
    "\n",
    "        #Guardamos los datos en la base de datos\n",
    "        self._guardarEnBD(df)\n",
    "        \n",
    "    def __convertirAFloat(self, df):\n",
    "        df[\"% Dif.\"] = df[\"% Dif.\"].str.replace(\",\", \".\").astype(float)\n",
    "        df[\"Máx.\"] = df[\"Máx.\"].str.replace(\",\", \".\").astype(float)\n",
    "        df[\"Mín.\"] = df[\"Mín.\"].str.replace(\",\", \".\").astype(float)\n",
    "        df[\"Últ.\"] = df[\"Últ.\"].str.replace(\",\", \".\").astype(float)\n",
    "        return df\n",
    "\n",
    "nombreDeAcciones =[\n",
    "    'BBVA', \"BBVA.MC\", 'BBVA',\n",
    "    'ELE', \"ELE.MC\", 'ENDESA',\n",
    "    'GRLS', 'GRIFOLS CL.A', \"GRF.MC\",\n",
    "    'IDR', \"IDR.MC\", 'INDRA A',\n",
    "    'REP', \"REP.MC\", 'REPSOL'\n",
    "    ]\n",
    "\n",
    "bolsamadrid = bolsaMadrid()\n",
    "bolsamadrid.actualizarBD()\n",
    "#bolsamadrid.visualizarDF()\n",
    "bolsamadrid.filtrarAcciones(nombreDeAcciones)\n",
    "accion = bolsamadrid.accion('BBVA')\n",
    "print(accion.mov)"
   ]
  },
  {
   "cell_type": "code",
   "execution_count": 332,
   "metadata": {},
   "outputs": [
    {
     "ename": "TypeError",
     "evalue": "'Ticker' object is not iterable",
     "output_type": "error",
     "traceback": [
      "\u001b[1;31m---------------------------------------------------------------------------\u001b[0m",
      "\u001b[1;31mTypeError\u001b[0m                                 Traceback (most recent call last)",
      "\u001b[1;32m~\\AppData\\Local\\Temp/ipykernel_19620/3472349395.py\u001b[0m in \u001b[0;36m<module>\u001b[1;34m\u001b[0m\n\u001b[0;32m     24\u001b[0m \u001b[1;33m\u001b[0m\u001b[0m\n\u001b[0;32m     25\u001b[0m \u001b[0myahooFinance\u001b[0m \u001b[1;33m=\u001b[0m \u001b[0myfinance\u001b[0m\u001b[1;33m(\u001b[0m\u001b[1;33m)\u001b[0m\u001b[1;33m\u001b[0m\u001b[1;33m\u001b[0m\u001b[0m\n\u001b[1;32m---> 26\u001b[1;33m \u001b[0myahooFinance\u001b[0m\u001b[1;33m.\u001b[0m\u001b[0mactualizarBD\u001b[0m\u001b[1;33m(\u001b[0m\u001b[0mnombreDeAcciones\u001b[0m\u001b[1;33m)\u001b[0m\u001b[1;33m\u001b[0m\u001b[1;33m\u001b[0m\u001b[0m\n\u001b[0m\u001b[0;32m     27\u001b[0m \u001b[0myahooFinance\u001b[0m\u001b[1;33m.\u001b[0m\u001b[0mvisualizarBD\u001b[0m\u001b[1;33m(\u001b[0m\u001b[1;33m)\u001b[0m\u001b[1;33m\u001b[0m\u001b[1;33m\u001b[0m\u001b[0m\n",
      "\u001b[1;32m~\\AppData\\Local\\Temp/ipykernel_19620/3472349395.py\u001b[0m in \u001b[0;36mactualizarBD\u001b[1;34m(self, acciones)\u001b[0m\n\u001b[0;32m     12\u001b[0m             \u001b[1;31m#print(data.info)\u001b[0m\u001b[1;33m\u001b[0m\u001b[1;33m\u001b[0m\u001b[1;33m\u001b[0m\u001b[0m\n\u001b[0;32m     13\u001b[0m \u001b[1;33m\u001b[0m\u001b[0m\n\u001b[1;32m---> 14\u001b[1;33m         \u001b[1;32mfor\u001b[0m \u001b[0mdato\u001b[0m \u001b[1;32min\u001b[0m \u001b[0mdata\u001b[0m\u001b[1;33m:\u001b[0m\u001b[1;33m\u001b[0m\u001b[1;33m\u001b[0m\u001b[0m\n\u001b[0m\u001b[0;32m     15\u001b[0m             \u001b[0mprint\u001b[0m \u001b[1;33m(\u001b[0m\u001b[0mdato\u001b[0m\u001b[1;33m.\u001b[0m\u001b[0mregularMarketPrice\u001b[0m\u001b[1;33m)\u001b[0m\u001b[1;33m\u001b[0m\u001b[1;33m\u001b[0m\u001b[0m\n\u001b[0;32m     16\u001b[0m \u001b[1;33m\u001b[0m\u001b[0m\n",
      "\u001b[1;31mTypeError\u001b[0m: 'Ticker' object is not iterable"
     ]
    }
   ],
   "source": [
    "class yfinance(Origen):\n",
    "    campo_nombre = 'Nombre'\n",
    "    campo_valorMaximo = 'Máx.'\n",
    "    campo_valorMinimo = 'Mín.'\n",
    "    campo_UltimoPrecio = 'Últ.'\n",
    "    campo_cambio = '% Dif.'\n",
    "\n",
    "    def actualizarBD(self, acciones):\n",
    "        df_list = list()\n",
    "        for ticker in acciones:\n",
    "            data = yf.Ticker(ticker)\n",
    "            #print(data.info)\n",
    "\n",
    "        for dato in data:\n",
    "            print (dato.regularMarketPrice)\n",
    "\n",
    "        \"\"\" df = pd.concat(df_list)\n",
    "\n",
    "    # save to csv\n",
    "        df.to_csv('yahoo_finance.csv')\n",
    "        df = pd.read_csv(\"yahoo_finance.csv\")\n",
    "        self._guardarEnBD(df) \"\"\"\n",
    "        #ahora podemos insertar los datos en la colección creada \n",
    "\n",
    "yahooFinance = yfinance()\n",
    "yahooFinance.actualizarBD(nombreDeAcciones)\n",
    "yahooFinance.visualizarBD()\n"
   ]
  },
  {
   "cell_type": "code",
   "execution_count": null,
   "metadata": {},
   "outputs": [],
   "source": [
    "class investpy():\n",
    "\n",
    "   def __init__(self):\n",
    "      pass\n",
    "\n",
    "   def extraerDatos():\n",
    "      pass\n",
    "\n",
    "\n",
    "class Cotizaciones(bolsaMadrid, yfinance, investpy):\n",
    "\n",
    "    def __init__(self, acciones):\n",
    "        self.acciones = acciones\n",
    "        self.actualizarBD()\n",
    "       \n",
    "\n",
    "    def actualizarBD(self):\n",
    "        bolsaMadrid.obtenerDatos(self)\n",
    "        yfinance.obtenerDatos(self.acciones)\n",
    "        ##investpy.obtenerDatos(self)\n",
    "\n",
    "    def leerDatos():\n",
    "        pass"
   ]
  },
  {
   "cell_type": "code",
   "execution_count": null,
   "metadata": {},
   "outputs": [
    {
     "ename": "AttributeError",
     "evalue": "type object 'bolsaMadrid' has no attribute 'obtenerDatos'",
     "output_type": "error",
     "traceback": [
      "\u001b[1;31m---------------------------------------------------------------------------\u001b[0m",
      "\u001b[1;31mAttributeError\u001b[0m                            Traceback (most recent call last)",
      "\u001b[1;32m~\\AppData\\Local\\Temp/ipykernel_19620/278822538.py\u001b[0m in \u001b[0;36m<module>\u001b[1;34m\u001b[0m\n\u001b[0;32m      1\u001b[0m \u001b[0macciones\u001b[0m \u001b[1;33m=\u001b[0m \u001b[1;33m[\u001b[0m\u001b[1;34m'ACCIONA'\u001b[0m\u001b[1;33m,\u001b[0m \u001b[1;34m'BBVA'\u001b[0m\u001b[1;33m,\u001b[0m \u001b[1;34m'GRIFOLS CL.A'\u001b[0m\u001b[1;33m,\u001b[0m \u001b[1;34m'PEPITO'\u001b[0m\u001b[1;33m,\u001b[0m \u001b[1;34m'REPSOL'\u001b[0m\u001b[1;33m,\u001b[0m \u001b[1;34m'ENDESA'\u001b[0m\u001b[1;33m]\u001b[0m\u001b[1;33m\u001b[0m\u001b[1;33m\u001b[0m\u001b[0m\n\u001b[1;32m----> 2\u001b[1;33m \u001b[0mcotizaciones\u001b[0m \u001b[1;33m=\u001b[0m \u001b[0mCotizaciones\u001b[0m\u001b[1;33m(\u001b[0m\u001b[0macciones\u001b[0m\u001b[1;33m)\u001b[0m\u001b[1;33m\u001b[0m\u001b[1;33m\u001b[0m\u001b[0m\n\u001b[0m\u001b[0;32m      3\u001b[0m \u001b[0mcotizaciones\u001b[0m\u001b[1;33m.\u001b[0m\u001b[0mmostrarDatosEnPantalla\u001b[0m\u001b[1;33m(\u001b[0m\u001b[1;33m)\u001b[0m\u001b[1;33m\u001b[0m\u001b[1;33m\u001b[0m\u001b[0m\n",
      "\u001b[1;32m~\\AppData\\Local\\Temp/ipykernel_19620/1129292157.py\u001b[0m in \u001b[0;36m__init__\u001b[1;34m(self, acciones)\u001b[0m\n\u001b[0;32m     12\u001b[0m     \u001b[1;32mdef\u001b[0m \u001b[0m__init__\u001b[0m\u001b[1;33m(\u001b[0m\u001b[0mself\u001b[0m\u001b[1;33m,\u001b[0m \u001b[0macciones\u001b[0m\u001b[1;33m)\u001b[0m\u001b[1;33m:\u001b[0m\u001b[1;33m\u001b[0m\u001b[1;33m\u001b[0m\u001b[0m\n\u001b[0;32m     13\u001b[0m         \u001b[0mself\u001b[0m\u001b[1;33m.\u001b[0m\u001b[0macciones\u001b[0m \u001b[1;33m=\u001b[0m \u001b[0macciones\u001b[0m\u001b[1;33m\u001b[0m\u001b[1;33m\u001b[0m\u001b[0m\n\u001b[1;32m---> 14\u001b[1;33m         \u001b[0mself\u001b[0m\u001b[1;33m.\u001b[0m\u001b[0mactualizarBD\u001b[0m\u001b[1;33m(\u001b[0m\u001b[1;33m)\u001b[0m\u001b[1;33m\u001b[0m\u001b[1;33m\u001b[0m\u001b[0m\n\u001b[0m\u001b[0;32m     15\u001b[0m \u001b[1;33m\u001b[0m\u001b[0m\n\u001b[0;32m     16\u001b[0m \u001b[1;33m\u001b[0m\u001b[0m\n",
      "\u001b[1;32m~\\AppData\\Local\\Temp/ipykernel_19620/1129292157.py\u001b[0m in \u001b[0;36mactualizarBD\u001b[1;34m(self)\u001b[0m\n\u001b[0;32m     16\u001b[0m \u001b[1;33m\u001b[0m\u001b[0m\n\u001b[0;32m     17\u001b[0m     \u001b[1;32mdef\u001b[0m \u001b[0mactualizarBD\u001b[0m\u001b[1;33m(\u001b[0m\u001b[0mself\u001b[0m\u001b[1;33m)\u001b[0m\u001b[1;33m:\u001b[0m\u001b[1;33m\u001b[0m\u001b[1;33m\u001b[0m\u001b[0m\n\u001b[1;32m---> 18\u001b[1;33m         \u001b[0mbolsaMadrid\u001b[0m\u001b[1;33m.\u001b[0m\u001b[0mobtenerDatos\u001b[0m\u001b[1;33m(\u001b[0m\u001b[0mself\u001b[0m\u001b[1;33m)\u001b[0m\u001b[1;33m\u001b[0m\u001b[1;33m\u001b[0m\u001b[0m\n\u001b[0m\u001b[0;32m     19\u001b[0m         \u001b[0myfinance\u001b[0m\u001b[1;33m.\u001b[0m\u001b[0mobtenerDatos\u001b[0m\u001b[1;33m(\u001b[0m\u001b[0mself\u001b[0m\u001b[1;33m.\u001b[0m\u001b[0macciones\u001b[0m\u001b[1;33m)\u001b[0m\u001b[1;33m\u001b[0m\u001b[1;33m\u001b[0m\u001b[0m\n\u001b[0;32m     20\u001b[0m         \u001b[1;31m##investpy.obtenerDatos(self)\u001b[0m\u001b[1;33m\u001b[0m\u001b[1;33m\u001b[0m\u001b[1;33m\u001b[0m\u001b[0m\n",
      "\u001b[1;31mAttributeError\u001b[0m: type object 'bolsaMadrid' has no attribute 'obtenerDatos'"
     ]
    }
   ],
   "source": [
    "acciones = ['ACCIONA', 'BBVA', 'GRIFOLS CL.A', 'PEPITO', 'REPSOL', 'ENDESA']\n",
    "cotizaciones = Cotizaciones(acciones)\n",
    "cotizaciones.mostrarDatosEnPantalla()\n"
   ]
  }
 ],
 "metadata": {
  "interpreter": {
   "hash": "b1cbc199116ca0050f15b4a096ee5586221393ef42f89efdf0ba89fccf25361f"
  },
  "kernelspec": {
   "display_name": "Python 3.8.8 64-bit ('base': conda)",
   "name": "python3"
  },
  "language_info": {
   "codemirror_mode": {
    "name": "ipython",
    "version": 3
   },
   "file_extension": ".py",
   "mimetype": "text/x-python",
   "name": "python",
   "nbconvert_exporter": "python",
   "pygments_lexer": "ipython3",
   "version": "3.8.8"
  },
  "orig_nbformat": 4
 },
 "nbformat": 4,
 "nbformat_minor": 2
}
