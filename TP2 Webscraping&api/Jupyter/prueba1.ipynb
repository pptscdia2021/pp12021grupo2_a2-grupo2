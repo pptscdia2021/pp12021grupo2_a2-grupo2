{
 "cells": [
  {
   "cell_type": "code",
   "execution_count": 23,
   "metadata": {},
   "outputs": [],
   "source": [
    "import pandas as pd\n",
    "import requests\n",
    "import yfinance as yf\n",
    "from bs4 import BeautifulSoup\n",
    "from pymongo import MongoClient"
   ]
  },
  {
   "cell_type": "code",
   "execution_count": 24,
   "metadata": {},
   "outputs": [
    {
     "name": "stdout",
     "output_type": "stream",
     "text": [
      "['admin', 'config', 'local']\n"
     ]
    }
   ],
   "source": [
    "class Accion:\n",
    "    def __init__(self, arrayaccion) -> None:\n",
    "        pass\n",
    "\n",
    "class Origen:\n",
    "    def actualizarBD(self):\n",
    "        bdMongo = MongoClient('localhost')\n",
    "        print(bdMongo.list_database_names())\n",
    "        pass\n",
    "    def __visualizarBD(self):\n",
    "        pass\n",
    "    def __cotizacionMinima(self):\n",
    "        pass\n",
    "    def __cotizacionMaxima(self):\n",
    "        pass\n",
    "    def __filtrarAcciones(self):\n",
    "        pass\n",
    "    def accion(self, symbol):\n",
    "        return Accion(self.__filtrarAcciones(symbol))\n",
    "\n",
    "origen = Origen()\n",
    "origen.actualizarBD()\n"
   ]
  },
  {
   "cell_type": "code",
   "execution_count": 25,
   "metadata": {},
   "outputs": [],
   "source": [
    "       \n",
    "class bolsaMadrid(Origen):\n",
    "\n",
    "   def __init__(self):\n",
    "       pass\n",
    "   \n",
    "   def obtenerDatos(self):\n",
    "    #Hacemos la consulta a la pagina y guardamos el contenido en una variable soup\n",
    "    url_page = 'https://www.bolsamadrid.es/esp/aspx/Mercados/Precios.aspx?indice=ESI100000000'\n",
    "    page = requests.get(url_page).text \n",
    "    soup = BeautifulSoup(page, \"lxml\")\n",
    "\n",
    "    #Buscamos la tabla de donde obtener los datos\n",
    "    tabla = soup.find('table', attrs={'id': 'ctl00_Contenido_tblAcciones'})\n",
    "\n",
    "    #creamos una lista vacia que llenaremos con los datos de las tablas\n",
    "    columnas = []\n",
    "\n",
    "    #buscamos los encabezados de la tabla y los agregamos a la lista columnos (deberia ubicarse en la posicion 0)\n",
    "    header = []\n",
    "    for th in tabla.find_all('th'):\n",
    "        header.append(th.text)\n",
    "    columnas.append(header)\n",
    "\n",
    "    for tr in tabla.find_all('tr'):\n",
    "        fila = []\n",
    "        for td in tr.find_all('td'):\n",
    "            fila.append(td.text)\n",
    "        if len(fila) > 0:\n",
    "            columnas.append(fila)\n",
    "            \n",
    "    #creamos el dataframe usando la lista columnas,pasamos el contenido (de la posicion 1 en adelante), y lo encabezados en (posicion 0)\n",
    "    df = pd.DataFrame(columnas[1:], columns=columnas[0])\n",
    "\n",
    "    #Reemplazamos la , por un . y convertimos en float\n",
    "    df[\"% Dif.\"] = df[\"% Dif.\"].str.replace(\",\", \".\").astype(float)\n",
    "    df[\"Máx.\"] = df[\"Máx.\"].str.replace(\",\", \".\").astype(float)\n",
    "    df[\"Mín.\"] = df[\"Mín.\"].str.replace(\",\", \".\").astype(float)\n",
    "    df[\"Últ.\"] = df[\"Últ.\"].str.replace(\",\", \".\").astype(float)\n",
    "    \n",
    "    #Guardamos en el archivo csv\n",
    "\n",
    "    df.to_csv('bolsaMadrid.csv')\n",
    "\n",
    "   def mostrarDatosEnPantalla(self, acciones):\n",
    "   #Mostrar tabla en pantalla usando BeautiFoul Soup\n",
    "      print('')\n",
    "      print('TABLA DE DATOS BOLSA DE MADRID (USANDO BS4)')\n",
    "      df_bolsaMadrid = pd.read_csv('bolsaMadrid.csv')\n",
    "      df_bolsaMadrid = df_bolsaMadrid[df_bolsaMadrid.Nombre.isin(acciones)]\n",
    "      print(df_bolsaMadrid)\n",
    "\n",
    "class yfinance():\n",
    "\n",
    "    def __init__(self):\n",
    "       pass\n",
    "    def obtenerDatos(acciones):\n",
    "        df_list = list()\n",
    "        for ticker in acciones:\n",
    "            data = yf.download(ticker, group_by='ticker', period='1d')\n",
    "            data['ticker'] = ticker  \n",
    "            df_list.append(data)\n",
    "\n",
    "        df = pd.concat(df_list)\n",
    "\n",
    "        # save to csv\n",
    "        df.to_csv('yahoo_finance.csv')\n",
    "\n",
    "class investpy():\n",
    "\n",
    "   def __init__(self):\n",
    "      pass\n",
    "\n",
    "   def extraerDatos():\n",
    "      pass\n",
    "\n",
    "\n",
    "class Cotizaciones(bolsaMadrid, yfinance, investpy):\n",
    "\n",
    "    def __init__(self, acciones):\n",
    "        self.acciones = acciones\n",
    "        self.actualizarBD()\n",
    "       \n",
    "\n",
    "    def actualizarBD(self):\n",
    "        bolsaMadrid.obtenerDatos(self)\n",
    "        yfinance.obtenerDatos(self.acciones)\n",
    "        ##investpy.obtenerDatos(self)\n",
    "\n",
    "    def leerDatos():\n",
    "        pass"
   ]
  },
  {
   "cell_type": "code",
   "execution_count": 26,
   "metadata": {},
   "outputs": [
    {
     "name": "stdout",
     "output_type": "stream",
     "text": [
      "[*********************100%***********************]  1 of 1 completed\n",
      "\n",
      "1 Failed download:\n",
      "- ACCIONA: No data found, symbol may be delisted\n",
      "[*********************100%***********************]  1 of 1 completed\n",
      "[*********************100%***********************]  2 of 2 completed\n",
      "\n",
      "2 Failed downloads:\n",
      "- GRIFOLS: No data found, symbol may be delisted\n",
      "- CL.A: No data found, symbol may be delisted\n",
      "[*********************100%***********************]  1 of 1 completed\n",
      "\n",
      "1 Failed download:\n",
      "- PEPITO: No data found, symbol may be delisted\n",
      "[*********************100%***********************]  1 of 1 completed\n",
      "\n",
      "1 Failed download:\n",
      "- REPSOL: No data found, symbol may be delisted\n",
      "[*********************100%***********************]  1 of 1 completed\n",
      "\n",
      "1 Failed download:\n",
      "- ENDESA: No data found, symbol may be delisted\n"
     ]
    },
    {
     "ename": "TypeError",
     "evalue": "mostrarDatosEnPantalla() missing 1 required positional argument: 'acciones'",
     "output_type": "error",
     "traceback": [
      "\u001b[1;31m---------------------------------------------------------------------------\u001b[0m",
      "\u001b[1;31mTypeError\u001b[0m                                 Traceback (most recent call last)",
      "\u001b[1;32m~\\AppData\\Local\\Temp/ipykernel_6796/278822538.py\u001b[0m in \u001b[0;36m<module>\u001b[1;34m\u001b[0m\n\u001b[0;32m      1\u001b[0m \u001b[0macciones\u001b[0m \u001b[1;33m=\u001b[0m \u001b[1;33m[\u001b[0m\u001b[1;34m'ACCIONA'\u001b[0m\u001b[1;33m,\u001b[0m \u001b[1;34m'BBVA'\u001b[0m\u001b[1;33m,\u001b[0m \u001b[1;34m'GRIFOLS CL.A'\u001b[0m\u001b[1;33m,\u001b[0m \u001b[1;34m'PEPITO'\u001b[0m\u001b[1;33m,\u001b[0m \u001b[1;34m'REPSOL'\u001b[0m\u001b[1;33m,\u001b[0m \u001b[1;34m'ENDESA'\u001b[0m\u001b[1;33m]\u001b[0m\u001b[1;33m\u001b[0m\u001b[1;33m\u001b[0m\u001b[0m\n\u001b[0;32m      2\u001b[0m \u001b[0mcotizaciones\u001b[0m \u001b[1;33m=\u001b[0m \u001b[0mCotizaciones\u001b[0m\u001b[1;33m(\u001b[0m\u001b[0macciones\u001b[0m\u001b[1;33m)\u001b[0m\u001b[1;33m\u001b[0m\u001b[1;33m\u001b[0m\u001b[0m\n\u001b[1;32m----> 3\u001b[1;33m \u001b[0mcotizaciones\u001b[0m\u001b[1;33m.\u001b[0m\u001b[0mmostrarDatosEnPantalla\u001b[0m\u001b[1;33m(\u001b[0m\u001b[1;33m)\u001b[0m\u001b[1;33m\u001b[0m\u001b[1;33m\u001b[0m\u001b[0m\n\u001b[0m",
      "\u001b[1;31mTypeError\u001b[0m: mostrarDatosEnPantalla() missing 1 required positional argument: 'acciones'"
     ]
    }
   ],
   "source": [
    "acciones = ['ACCIONA', 'BBVA', 'GRIFOLS CL.A', 'PEPITO', 'REPSOL', 'ENDESA']\n",
    "cotizaciones = Cotizaciones(acciones)\n",
    "cotizaciones.mostrarDatosEnPantalla()\n"
   ]
  }
 ],
 "metadata": {
  "interpreter": {
   "hash": "b1cbc199116ca0050f15b4a096ee5586221393ef42f89efdf0ba89fccf25361f"
  },
  "kernelspec": {
   "display_name": "Python 3.8.8 64-bit ('base': conda)",
   "name": "python3"
  },
  "language_info": {
   "codemirror_mode": {
    "name": "ipython",
    "version": 3
   },
   "file_extension": ".py",
   "mimetype": "text/x-python",
   "name": "python",
   "nbconvert_exporter": "python",
   "pygments_lexer": "ipython3",
   "version": "3.8.8"
  },
  "orig_nbformat": 4
 },
 "nbformat": 4,
 "nbformat_minor": 2
}
