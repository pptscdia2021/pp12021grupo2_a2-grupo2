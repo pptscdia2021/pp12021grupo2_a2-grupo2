{
 "cells": [
  {
   "cell_type": "code",
   "execution_count": 6,
   "id": "424a032b",
   "metadata": {},
   "outputs": [
    {
     "name": "stdout",
     "output_type": "stream",
     "text": [
      "Conexión correcta\n"
     ]
    }
   ],
   "source": [
    "#Realizar la conexion a la BBDD employees\n",
    "import pymysql\n",
    "import pandas as pd\n",
    "try:\n",
    "\tconexion = pymysql.connect(host='localhost',\n",
    "                             user='root',\n",
    "                             password='',\n",
    "                             db='employees')\n",
    "   print('hpa')\n",
    "\tprint(\"Conexión correcta\")\n",
    "except (pymysql.err.OperationalError, pymysql.err.InternalError) as e:\n",
    "\tprint(\"Ocurrió un error al conectar: \", e)\n",
    "   print('hpña')"
   ]
  },
  {
   "cell_type": "code",
   "execution_count": null,
   "id": "8565ad5e",
   "metadata": {},
   "outputs": [],
   "source": [
    "#Obtenemos los datos de la tabla employees\n",
    "#Al finalizar escribimos la sentencia 'except' para continuar con la conexión activa\n",
    "try:\n",
    "    with conexion.cursor() as cursor:\n",
    "        cursor.execute(\"SELECT * FROM employees;\") # En este caso no necesitamos limpiar ningún dato\n",
    "        employees = cursor.fetchall() # Con fetchall traemos todas las filas\n",
    "        for emp in employees: # Recorrer e imprimir\n",
    "            print(emp)\n",
    "except:\n",
    "    print('No se pudo realizar la consulta')"
   ]
  },
  {
   "cell_type": "code",
   "execution_count": 4,
   "id": "c303550e",
   "metadata": {},
   "outputs": [
    {
     "data": {
      "text/html": [
       "<div>\n",
       "<style scoped>\n",
       "    .dataframe tbody tr th:only-of-type {\n",
       "        vertical-align: middle;\n",
       "    }\n",
       "\n",
       "    .dataframe tbody tr th {\n",
       "        vertical-align: top;\n",
       "    }\n",
       "\n",
       "    .dataframe thead th {\n",
       "        text-align: right;\n",
       "    }\n",
       "</style>\n",
       "<table border=\"1\" class=\"dataframe\">\n",
       "  <thead>\n",
       "    <tr style=\"text-align: right;\">\n",
       "      <th></th>\n",
       "      <th>emp_no</th>\n",
       "      <th>birth_date</th>\n",
       "      <th>first_name</th>\n",
       "      <th>last_name</th>\n",
       "      <th>gender</th>\n",
       "      <th>hire_date</th>\n",
       "    </tr>\n",
       "  </thead>\n",
       "  <tbody>\n",
       "    <tr>\n",
       "      <th>0</th>\n",
       "      <td>10001</td>\n",
       "      <td>1953-09-02</td>\n",
       "      <td>Georgi</td>\n",
       "      <td>Facello</td>\n",
       "      <td>M</td>\n",
       "      <td>1986-06-26</td>\n",
       "    </tr>\n",
       "    <tr>\n",
       "      <th>1</th>\n",
       "      <td>10002</td>\n",
       "      <td>1964-06-02</td>\n",
       "      <td>Bezalel</td>\n",
       "      <td>Simmel</td>\n",
       "      <td>F</td>\n",
       "      <td>1985-11-21</td>\n",
       "    </tr>\n",
       "    <tr>\n",
       "      <th>2</th>\n",
       "      <td>10003</td>\n",
       "      <td>1959-12-03</td>\n",
       "      <td>Parto</td>\n",
       "      <td>Bamford</td>\n",
       "      <td>M</td>\n",
       "      <td>1986-08-28</td>\n",
       "    </tr>\n",
       "    <tr>\n",
       "      <th>3</th>\n",
       "      <td>10004</td>\n",
       "      <td>1954-05-01</td>\n",
       "      <td>Chirstian</td>\n",
       "      <td>Koblick</td>\n",
       "      <td>M</td>\n",
       "      <td>1986-12-01</td>\n",
       "    </tr>\n",
       "    <tr>\n",
       "      <th>4</th>\n",
       "      <td>10005</td>\n",
       "      <td>1955-01-21</td>\n",
       "      <td>Kyoichi</td>\n",
       "      <td>Maliniak</td>\n",
       "      <td>M</td>\n",
       "      <td>1989-09-12</td>\n",
       "    </tr>\n",
       "  </tbody>\n",
       "</table>\n",
       "</div>"
      ],
      "text/plain": [
       "   emp_no  birth_date first_name last_name gender   hire_date\n",
       "0   10001  1953-09-02     Georgi   Facello      M  1986-06-26\n",
       "1   10002  1964-06-02    Bezalel    Simmel      F  1985-11-21\n",
       "2   10003  1959-12-03      Parto   Bamford      M  1986-08-28\n",
       "3   10004  1954-05-01  Chirstian   Koblick      M  1986-12-01\n",
       "4   10005  1955-01-21    Kyoichi  Maliniak      M  1989-09-12"
      ]
     },
     "execution_count": 4,
     "metadata": {},
     "output_type": "execute_result"
    }
   ],
   "source": [
    "\"\"\"\n",
    "Pasamos los EMPLEADOS (totales) a un dataframe\n",
    "\"\"\"\n",
    "emp = \"SELECT * FROM employees\"\n",
    "df = pd.read_sql_query(emp,conexion)\n",
    "df.head()"
   ]
  },
  {
   "cell_type": "code",
   "execution_count": null,
   "id": "53d355f8",
   "metadata": {},
   "outputs": [],
   "source": [
    "#Obtenemos los datos de la tabla employees que sean mujeres\n",
    "#Al finalizar escribimos la sentencia 'except' para continuar con la conexión activa\n",
    "try:\n",
    "    with conexion.cursor() as cursor:\n",
    "        consulta = \"SELECT * FROM employees WHERE gender ='F';\"\n",
    "        cursor.execute(consulta)\n",
    "        employees = cursor.fetchall() # Con fetchall traemos todas las filas\n",
    "        for emp in employees: # Recorrer e imprimir\n",
    "            print(emp)\n",
    "except:\n",
    "    print('No se pudo realizar la consulta')"
   ]
  },
  {
   "cell_type": "code",
   "execution_count": 7,
   "id": "15f3002a",
   "metadata": {},
   "outputs": [
    {
     "data": {
      "text/html": [
       "<div>\n",
       "<style scoped>\n",
       "    .dataframe tbody tr th:only-of-type {\n",
       "        vertical-align: middle;\n",
       "    }\n",
       "\n",
       "    .dataframe tbody tr th {\n",
       "        vertical-align: top;\n",
       "    }\n",
       "\n",
       "    .dataframe thead th {\n",
       "        text-align: right;\n",
       "    }\n",
       "</style>\n",
       "<table border=\"1\" class=\"dataframe\">\n",
       "  <thead>\n",
       "    <tr style=\"text-align: right;\">\n",
       "      <th></th>\n",
       "      <th>emp_no</th>\n",
       "      <th>birth_date</th>\n",
       "      <th>first_name</th>\n",
       "      <th>last_name</th>\n",
       "      <th>gender</th>\n",
       "      <th>hire_date</th>\n",
       "    </tr>\n",
       "  </thead>\n",
       "  <tbody>\n",
       "    <tr>\n",
       "      <th>0</th>\n",
       "      <td>10002</td>\n",
       "      <td>1964-06-02</td>\n",
       "      <td>Bezalel</td>\n",
       "      <td>Simmel</td>\n",
       "      <td>F</td>\n",
       "      <td>1985-11-21</td>\n",
       "    </tr>\n",
       "    <tr>\n",
       "      <th>1</th>\n",
       "      <td>10006</td>\n",
       "      <td>1953-04-20</td>\n",
       "      <td>Anneke</td>\n",
       "      <td>Preusig</td>\n",
       "      <td>F</td>\n",
       "      <td>1989-06-02</td>\n",
       "    </tr>\n",
       "    <tr>\n",
       "      <th>2</th>\n",
       "      <td>10007</td>\n",
       "      <td>1957-05-23</td>\n",
       "      <td>Tzvetan</td>\n",
       "      <td>Zielinski</td>\n",
       "      <td>F</td>\n",
       "      <td>1989-02-10</td>\n",
       "    </tr>\n",
       "    <tr>\n",
       "      <th>3</th>\n",
       "      <td>10009</td>\n",
       "      <td>1952-04-19</td>\n",
       "      <td>Sumant</td>\n",
       "      <td>Peac</td>\n",
       "      <td>F</td>\n",
       "      <td>1985-02-18</td>\n",
       "    </tr>\n",
       "    <tr>\n",
       "      <th>4</th>\n",
       "      <td>10010</td>\n",
       "      <td>1963-06-01</td>\n",
       "      <td>Duangkaew</td>\n",
       "      <td>Piveteau</td>\n",
       "      <td>F</td>\n",
       "      <td>1989-08-24</td>\n",
       "    </tr>\n",
       "  </tbody>\n",
       "</table>\n",
       "</div>"
      ],
      "text/plain": [
       "   emp_no  birth_date first_name  last_name gender   hire_date\n",
       "0   10002  1964-06-02    Bezalel     Simmel      F  1985-11-21\n",
       "1   10006  1953-04-20     Anneke    Preusig      F  1989-06-02\n",
       "2   10007  1957-05-23    Tzvetan  Zielinski      F  1989-02-10\n",
       "3   10009  1952-04-19     Sumant       Peac      F  1985-02-18\n",
       "4   10010  1963-06-01  Duangkaew   Piveteau      F  1989-08-24"
      ]
     },
     "execution_count": 7,
     "metadata": {},
     "output_type": "execute_result"
    }
   ],
   "source": [
    "\"\"\"\n",
    "Pasamos las EMPLEADAS mujeres a un dataframe\n",
    "\"\"\"\n",
    "mujeres = \"SELECT * FROM employees WHERE gender ='F';\"\n",
    "df_mujeres = pd.read_sql_query(mujeres,conexion)\n",
    "df_mujeres.head()"
   ]
  },
  {
   "cell_type": "code",
   "execution_count": null,
   "id": "1cee2be6",
   "metadata": {},
   "outputs": [],
   "source": [
    "#Obtenemos los datos completos de los departamentos\n",
    "#Al finalizar escribimos la sentencia 'except' para continuar con la conexión activa\n",
    "try:\n",
    "    with conexion.cursor() as cursor:\n",
    "        cursor.execute(\"SELECT * FROM departments;\")\n",
    "        departments = cursor.fetchall() # Con fetchall traemos todas las filas\n",
    "        for dept in departments: # Recorrer e imprimir\n",
    "            print(dept)\n",
    "except:\n",
    "    print('No se pudo realizar la consulta')"
   ]
  },
  {
   "cell_type": "code",
   "execution_count": 6,
   "id": "af7459af",
   "metadata": {},
   "outputs": [
    {
     "data": {
      "text/html": [
       "<div>\n",
       "<style scoped>\n",
       "    .dataframe tbody tr th:only-of-type {\n",
       "        vertical-align: middle;\n",
       "    }\n",
       "\n",
       "    .dataframe tbody tr th {\n",
       "        vertical-align: top;\n",
       "    }\n",
       "\n",
       "    .dataframe thead th {\n",
       "        text-align: right;\n",
       "    }\n",
       "</style>\n",
       "<table border=\"1\" class=\"dataframe\">\n",
       "  <thead>\n",
       "    <tr style=\"text-align: right;\">\n",
       "      <th></th>\n",
       "      <th>dept_no</th>\n",
       "      <th>dept_name</th>\n",
       "    </tr>\n",
       "  </thead>\n",
       "  <tbody>\n",
       "    <tr>\n",
       "      <th>0</th>\n",
       "      <td>d009</td>\n",
       "      <td>Customer Service</td>\n",
       "    </tr>\n",
       "    <tr>\n",
       "      <th>1</th>\n",
       "      <td>d010</td>\n",
       "      <td>Data Science</td>\n",
       "    </tr>\n",
       "    <tr>\n",
       "      <th>2</th>\n",
       "      <td>d005</td>\n",
       "      <td>Development</td>\n",
       "    </tr>\n",
       "    <tr>\n",
       "      <th>3</th>\n",
       "      <td>d002</td>\n",
       "      <td>Finance</td>\n",
       "    </tr>\n",
       "    <tr>\n",
       "      <th>4</th>\n",
       "      <td>d003</td>\n",
       "      <td>Human Resources</td>\n",
       "    </tr>\n",
       "  </tbody>\n",
       "</table>\n",
       "</div>"
      ],
      "text/plain": [
       "  dept_no         dept_name\n",
       "0    d009  Customer Service\n",
       "1    d010      Data Science\n",
       "2    d005       Development\n",
       "3    d002           Finance\n",
       "4    d003   Human Resources"
      ]
     },
     "execution_count": 6,
     "metadata": {},
     "output_type": "execute_result"
    }
   ],
   "source": [
    "\"\"\"\n",
    "Pasamos los DEPARTAMENTOS a un dataframe\n",
    "\"\"\"\n",
    "deptos = \"SELECT * FROM departments\"\n",
    "df_deptos = pd.read_sql_query(deptos,conexion)\n",
    "df_deptos.head()"
   ]
  },
  {
   "cell_type": "code",
   "execution_count": 7,
   "id": "dc0e6366",
   "metadata": {},
   "outputs": [
    {
     "name": "stdout",
     "output_type": "stream",
     "text": [
      "La cantidad total de empleados es  300024\n"
     ]
    }
   ],
   "source": [
    "#Obtener la cantidad de empleados\n",
    " \n",
    "cursor= conexion.cursor() \n",
    "cantidad_total = cursor.execute(\"SELECT * FROM employees\")  \n",
    "print('La cantidad total de empleados es ', cantidad_total)"
   ]
  },
  {
   "cell_type": "code",
   "execution_count": 8,
   "id": "c2d254db",
   "metadata": {},
   "outputs": [
    {
     "name": "stdout",
     "output_type": "stream",
     "text": [
      "La cantidad de mujeres es  120051\n"
     ]
    }
   ],
   "source": [
    "#Obtener la cantidad de empleadas mujeres\n",
    " \n",
    "cursor= conexion.cursor() \n",
    "cantidad_mujeres = cursor.execute(\"SELECT * FROM employees WHERE gender ='F';\")   \n",
    "print('La cantidad de mujeres es ', cantidad_mujeres)"
   ]
  },
  {
   "cell_type": "code",
   "execution_count": 2,
   "id": "724a8df5",
   "metadata": {},
   "outputs": [
    {
     "name": "stdout",
     "output_type": "stream",
     "text": [
      "Ejecución correcta\n"
     ]
    }
   ],
   "source": [
    "#Agregar el departamento Ciencias de Datos.\n",
    "try:\n",
    "    conexion = pymysql.connect(host='localhost',\n",
    "                             user='root',\n",
    "                             password='',\n",
    "                             db='employees')\n",
    "    try:\n",
    "        with conexion.cursor() as cursor:\n",
    "            consulta = \"INSERT INTO departments(dept_no, dept_name) VALUES (%s, %s);\"\n",
    "            #Podemos llamar muchas veces a .execute con datos distintos\n",
    "            cursor.execute(consulta, ('d010', 'Data Science'))\n",
    "            #cursor.execute(consulta, ())\n",
    "        conexion.commit()\n",
    "        print('Ejecución correcta')\n",
    "    except:\n",
    "        print('No se pudo realizar la consulta')\n",
    "except (pymysql.err.OperationalError, pymysql.err.InternalError) as e:\n",
    "    print(\"Ocurrió un error al conectar: \", e)"
   ]
  },
  {
   "cell_type": "code",
   "execution_count": 3,
   "id": "8669769c",
   "metadata": {},
   "outputs": [
    {
     "name": "stdout",
     "output_type": "stream",
     "text": [
      "Ejecución correcta\n"
     ]
    }
   ],
   "source": [
    "#Insertamos al empleado Pepe\n",
    "try:\n",
    "    with conexion.cursor() as cursor:\n",
    "        consulta = \"INSERT INTO employees(emp_no, birth_date, first_name, last_name, gender, hire_date) VALUES (%s, %s, %s, %s, %s, %s);\"\n",
    "        #Podemos llamar muchas veces a .execute con datos distintos\n",
    "        cursor.execute(consulta, (300025, '1985-03-03','Pepe', 'Sanchez','M','2010-05-05'))\n",
    "            \n",
    "    conexion.commit()\n",
    "    \n",
    "    print('Ejecución correcta')\n",
    "\n",
    "except:\n",
    "    print('No se pudo realizar la consulta')"
   ]
  },
  {
   "cell_type": "code",
   "execution_count": 4,
   "id": "d6d89f27",
   "metadata": {},
   "outputs": [
    {
     "name": "stdout",
     "output_type": "stream",
     "text": [
      "Ejecución correcta\n"
     ]
    }
   ],
   "source": [
    "#Asignamos a Pepe como gerente del departamento Ciencia de Datos\n",
    "try:\n",
    "    with conexion.cursor() as cursor:\n",
    "        consulta = \"INSERT INTO dept_manager(emp_no, dept_no, from_date, to_date) VALUES (%s, %s, %s, %s);\"\n",
    "        #Podemos llamar muchas veces a .execute con datos distintos\n",
    "        cursor.execute(consulta, (300025, 'd010', '2015-05-05' ,'2021-11-01'))\n",
    "            \n",
    "    conexion.commit()\n",
    "    print('Ejecución correcta')\n",
    "\n",
    "except:\n",
    "    print('No se pudo realizar la consulta')"
   ]
  },
  {
   "cell_type": "code",
   "execution_count": 5,
   "id": "62e29c57",
   "metadata": {},
   "outputs": [
    {
     "name": "stdout",
     "output_type": "stream",
     "text": [
      "Ejecución correcta\n"
     ]
    }
   ],
   "source": [
    "#Eliminamos al empleado Pepe\n",
    "#Cerramos la conexion\n",
    "try:\n",
    "    with conexion.cursor() as cursor:\n",
    "        consulta = \"DELETE FROM employees WHERE first_name = 'Pepe';\"\n",
    "        cursor.execute(consulta)\n",
    "        \n",
    "    conexion.commit()\n",
    "    print('Ejecución correcta')\n",
    "\n",
    "finally:\n",
    "    conexion.close()"
   ]
  },
  {
   "cell_type": "code",
   "execution_count": null,
   "id": "97ce4a78",
   "metadata": {},
   "outputs": [],
   "source": []
  }
 ],
 "metadata": {
  "kernelspec": {
   "display_name": "Python 3",
   "language": "python",
   "name": "python3"
  },
  "language_info": {
   "codemirror_mode": {
    "name": "ipython",
    "version": 3
   },
   "file_extension": ".py",
   "mimetype": "text/x-python",
   "name": "python",
   "nbconvert_exporter": "python",
   "pygments_lexer": "ipython3",
   "version": "3.8.8"
  }
 },
 "nbformat": 4,
 "nbformat_minor": 5
}
