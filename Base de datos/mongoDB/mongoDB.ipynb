{
 "cells": [
  {
   "cell_type": "code",
   "execution_count": null,
   "metadata": {},
   "outputs": [],
   "source": [
    "\"\"\"\n",
    "MongoDB es una base de datos open source NoSql (Not only Sql) enfocada a manejar enormes cantidades de datos que se generan \n",
    "demasiado rápido (big data), por ejemplo los datos que vienen de aplicaciones de redes sociales, *juegos online o análisis de datos de múltiples sitios. \n",
    "Es flexible, escalable (podemos añadir mas recursos a nuestra base de datos añadiendo mas servidores - cluster-) y de propósito general (puede ser utilizada en cualquier tipo de aplicación).\n",
    "Está orientada a DOCUMENTOS, que refiere a los datos que vamos a guardar en MongoDB (objetos de javascript).Utiliza JSON como formato de datos.\n",
    "Las datos se organizan en COLECCIONES (por ej., una colección de usuarios, otra de productos, etc; en SQL serían las tablas). \n",
    "\"\"\""
   ]
  },
  {
   "cell_type": "code",
   "execution_count": 8,
   "id": "7632f6ab",
   "metadata": {},
   "outputs": [],
   "source": [
    "#Imports\n",
    "import pymongo\n",
    "import pandas as pd"
   ]
  },
  {
   "cell_type": "code",
   "execution_count": 9,
   "id": "6efd6910",
   "metadata": {},
   "outputs": [],
   "source": [
    "#Conexión a MongoDB\n",
    "client = pymongo.MongoClient('localhost',27017)\n",
    "db = client['mongo']"
   ]
  },
  {
   "cell_type": "code",
   "execution_count": 10,
   "id": "d5b3a9b5",
   "metadata": {},
   "outputs": [],
   "source": [
    "#Colección\n",
    "collection = db['income']"
   ]
  },
  {
   "cell_type": "code",
   "execution_count": 11,
   "id": "eaec2d6a",
   "metadata": {},
   "outputs": [
    {
     "data": {
      "text/plain": [
       "'age, workclass, fnlwgt, education, education-num, marital-status, occupation, relationship, race, sex, capital-gain, capital-loss, hours-per-week, native-country, label'"
      ]
     },
     "execution_count": 11,
     "metadata": {},
     "output_type": "execute_result"
    }
   ],
   "source": [
    "#Lee un archivo, \n",
    "#Para que? \n",
    "#Donde está este archivo? \n",
    "#Como proceder para continuar con el programa??\n",
    "\n",
    "with open('income_header.txt') as finput:\n",
    "    column_names = finput.readline()\n",
    "column_names"
   ]
  },
  {
   "cell_type": "code",
   "execution_count": 12,
   "id": "eddc50ea",
   "metadata": {},
   "outputs": [
    {
     "data": {
      "text/plain": [
       "['age',\n",
       " ' workclass',\n",
       " ' fnlwgt',\n",
       " ' education',\n",
       " ' education-num',\n",
       " ' marital-status',\n",
       " ' occupation',\n",
       " ' relationship',\n",
       " ' race',\n",
       " ' sex',\n",
       " ' capital-gain',\n",
       " ' capital-loss',\n",
       " ' hours-per-week',\n",
       " ' native-country',\n",
       " ' label']"
      ]
     },
     "execution_count": 12,
     "metadata": {},
     "output_type": "execute_result"
    }
   ],
   "source": [
    "column_names_list = column_names.split(',')\n",
    "column_names_list"
   ]
  },
  {
   "cell_type": "code",
   "execution_count": 13,
   "id": "57c76ff0",
   "metadata": {},
   "outputs": [],
   "source": [
    "#with open('income.txt')as finput:\n",
    "with open('adult.data')as finput:\n",
    "    for line in finput:\n",
    "        row_list =line.rstrip('\\n').split(',')\n",
    "        row_dict = dict(zip(column_names_list,row_list))\n",
    "        try:\n",
    "            row_dict['age']= int(row_dict['age'])\n",
    "            collection.insert_one(row_dict)\n",
    "        except:\n",
    "            pass"
   ]
  },
  {
   "cell_type": "code",
   "execution_count": 14,
   "id": "b2841590",
   "metadata": {},
   "outputs": [
    {
     "name": "stderr",
     "output_type": "stream",
     "text": [
      "<ipython-input-14-7c4bc5758cb0>:1: DeprecationWarning: count is deprecated. Use estimated_document_count or count_documents instead. Please note that $where must be replaced by $expr, $near must be replaced by $geoWithin with $center, and $nearSphere must be replaced by $geoWithin with $centerSphere\n",
      "  collection.count()\n"
     ]
    },
    {
     "data": {
      "text/plain": [
       "32561"
      ]
     },
     "execution_count": 14,
     "metadata": {},
     "output_type": "execute_result"
    }
   ],
   "source": [
    "collection.count()"
   ]
  },
  {
   "cell_type": "code",
   "execution_count": 15,
   "id": "56a88a6d",
   "metadata": {},
   "outputs": [
    {
     "name": "stdout",
     "output_type": "stream",
     "text": [
      "{'_id': ObjectId('617c781eadbeb9dc2c50de57'), 'age': 39, ' workclass': ' State-gov', ' fnlwgt': ' 77516', ' education': ' Bachelors', ' education-num': ' 13', ' marital-status': ' Never-married', ' occupation': ' Adm-clerical', ' relationship': ' Not-in-family', ' race': ' White', ' sex': ' Male', ' capital-gain': ' 2174', ' capital-loss': ' 0', ' hours-per-week': ' 40', ' native-country': ' United-States', ' label': ' <=50K'}\n"
     ]
    }
   ],
   "source": [
    "age39 = collection.find_one({'age':{'$eq' : 39}}) #alternatively, {'age': 39} can be used\n",
    "print(age39)"
   ]
  },
  {
   "cell_type": "code",
   "execution_count": 16,
   "id": "04b44dd6",
   "metadata": {},
   "outputs": [
    {
     "name": "stderr",
     "output_type": "stream",
     "text": [
      "<ipython-input-16-91897d8f5f17>:2: DeprecationWarning: count is deprecated. Use Collection.count_documents instead.\n",
      "  ageover_45.count()\n"
     ]
    },
    {
     "data": {
      "text/plain": [
       "9627"
      ]
     },
     "execution_count": 16,
     "metadata": {},
     "output_type": "execute_result"
    }
   ],
   "source": [
    "ageover_45 = collection.find({'age':{\"$gt\" : 45}})\n",
    "ageover_45.count()"
   ]
  },
  {
   "cell_type": "code",
   "execution_count": 17,
   "id": "14df2e7e",
   "metadata": {},
   "outputs": [
    {
     "data": {
      "text/plain": [
       "pymongo.cursor.Cursor"
      ]
     },
     "execution_count": 17,
     "metadata": {},
     "output_type": "execute_result"
    }
   ],
   "source": [
    "type(ageover_45)"
   ]
  },
  {
   "cell_type": "code",
   "execution_count": 18,
   "id": "9283f0ae",
   "metadata": {},
   "outputs": [
    {
     "data": {
      "text/plain": [
       "{'_id': ObjectId('617c781eadbeb9dc2c50de58'),\n",
       " 'age': 50,\n",
       " ' workclass': ' Self-emp-not-inc',\n",
       " ' fnlwgt': ' 83311',\n",
       " ' education': ' Bachelors',\n",
       " ' education-num': ' 13',\n",
       " ' marital-status': ' Married-civ-spouse',\n",
       " ' occupation': ' Exec-managerial',\n",
       " ' relationship': ' Husband',\n",
       " ' race': ' White',\n",
       " ' sex': ' Male',\n",
       " ' capital-gain': ' 0',\n",
       " ' capital-loss': ' 0',\n",
       " ' hours-per-week': ' 13',\n",
       " ' native-country': ' United-States',\n",
       " ' label': ' <=50K'}"
      ]
     },
     "execution_count": 18,
     "metadata": {},
     "output_type": "execute_result"
    }
   ],
   "source": [
    "ageover_45.next()"
   ]
  },
  {
   "cell_type": "code",
   "execution_count": null,
   "id": "24cd0545",
   "metadata": {},
   "outputs": [],
   "source": [
    "\"\"\"\n",
    "UPDATE\n",
    "\"\"\""
   ]
  },
  {
   "cell_type": "code",
   "execution_count": 19,
   "id": "bc692e50",
   "metadata": {},
   "outputs": [
    {
     "data": {
      "text/plain": [
       "<pymongo.results.UpdateResult at 0x1fd58b7d9c0>"
      ]
     },
     "execution_count": 19,
     "metadata": {},
     "output_type": "execute_result"
    }
   ],
   "source": [
    "collection.update_one(\n",
    "        {\"age\": 38},\n",
    "        {\n",
    "        \"$set\": {\n",
    "            \"capital-gain\":999,\n",
    "            \"capital-loss\":999,\n",
    "                }\n",
    "        })"
   ]
  },
  {
   "cell_type": "code",
   "execution_count": 20,
   "id": "6b4cdb2a",
   "metadata": {},
   "outputs": [
    {
     "data": {
      "text/plain": [
       "{'_id': ObjectId('617c781eadbeb9dc2c50de59'),\n",
       " 'age': 38,\n",
       " ' workclass': ' Private',\n",
       " ' fnlwgt': ' 215646',\n",
       " ' education': ' HS-grad',\n",
       " ' education-num': ' 9',\n",
       " ' marital-status': ' Divorced',\n",
       " ' occupation': ' Handlers-cleaners',\n",
       " ' relationship': ' Not-in-family',\n",
       " ' race': ' White',\n",
       " ' sex': ' Male',\n",
       " ' capital-gain': ' 0',\n",
       " ' capital-loss': ' 0',\n",
       " ' hours-per-week': ' 40',\n",
       " ' native-country': ' United-States',\n",
       " ' label': ' <=50K',\n",
       " 'capital-gain': 999,\n",
       " 'capital-loss': 999}"
      ]
     },
     "execution_count": 20,
     "metadata": {},
     "output_type": "execute_result"
    }
   ],
   "source": [
    "updated = collection.find_one({'age':{'$eq' : 38}})\n",
    "updated"
   ]
  },
  {
   "cell_type": "code",
   "execution_count": null,
   "id": "3240ad71",
   "metadata": {},
   "outputs": [],
   "source": [
    "\"\"\"\n",
    "Indexing in MongoDB\n",
    "Primero busquemos cuánto tiempo lleva consultar algo usando find () como arriba sin un índice, \n",
    "así que cree una variable llamada start para realizar un seguimiento del tiempo, y llame a la función time \n",
    "en el paquete time en python\n",
    "\"\"\""
   ]
  },
  {
   "cell_type": "code",
   "execution_count": 21,
   "id": "4047d354",
   "metadata": {},
   "outputs": [
    {
     "name": "stdout",
     "output_type": "stream",
     "text": [
      "0.0009996891021728516\n"
     ]
    }
   ],
   "source": [
    "import time\n",
    "start = time.time()\n",
    "ageover50 = collection.find({'age':{'$gt':50}})\n",
    "end = time.time()\n",
    "print(end-start)"
   ]
  },
  {
   "cell_type": "code",
   "execution_count": 22,
   "id": "3f938b31",
   "metadata": {},
   "outputs": [],
   "source": [
    "#Creemos ahora un índice usando profiles.create_index ()\n",
    "index_result = db.profiles.create_index([('age',pymongo.ASCENDING)],unique = False)"
   ]
  },
  {
   "cell_type": "code",
   "execution_count": 26,
   "id": "16630f47",
   "metadata": {},
   "outputs": [
    {
     "name": "stdout",
     "output_type": "stream",
     "text": [
      "0.0\n"
     ]
    }
   ],
   "source": [
    "import time\n",
    "start = time.time()\n",
    "ageover45 = collection.find({'age':{'$gt':45}})\n",
    "end = time.time()\n",
    "print(end-start)\n",
    "#La reducción de tiempo, incluso en una cantidad pequeña, es muy significativa. Por eso es importante la indexación."
   ]
  },
  {
   "cell_type": "code",
   "execution_count": null,
   "id": "5d066261",
   "metadata": {},
   "outputs": [],
   "source": [
    "\"\"\"\n",
    "Read data from MongoDB into dataframes\n",
    "\n",
    "Convertimos el cursor, collection.find (), en una lista y luego en un dataframe de Pandas usando .DataFrame ()\n",
    "\"\"\""
   ]
  },
  {
   "cell_type": "code",
   "execution_count": 27,
   "id": "2863821a",
   "metadata": {},
   "outputs": [],
   "source": [
    "income_df = pd.DataFrame(list(collection.find()))"
   ]
  },
  {
   "cell_type": "code",
   "execution_count": 28,
   "id": "678739f7",
   "metadata": {},
   "outputs": [
    {
     "data": {
      "text/html": [
       "<div>\n",
       "<style scoped>\n",
       "    .dataframe tbody tr th:only-of-type {\n",
       "        vertical-align: middle;\n",
       "    }\n",
       "\n",
       "    .dataframe tbody tr th {\n",
       "        vertical-align: top;\n",
       "    }\n",
       "\n",
       "    .dataframe thead th {\n",
       "        text-align: right;\n",
       "    }\n",
       "</style>\n",
       "<table border=\"1\" class=\"dataframe\">\n",
       "  <thead>\n",
       "    <tr style=\"text-align: right;\">\n",
       "      <th></th>\n",
       "      <th>_id</th>\n",
       "      <th>age</th>\n",
       "      <th>workclass</th>\n",
       "      <th>fnlwgt</th>\n",
       "      <th>education</th>\n",
       "      <th>education-num</th>\n",
       "      <th>marital-status</th>\n",
       "      <th>occupation</th>\n",
       "      <th>relationship</th>\n",
       "      <th>race</th>\n",
       "      <th>sex</th>\n",
       "      <th>capital-gain</th>\n",
       "      <th>capital-loss</th>\n",
       "      <th>hours-per-week</th>\n",
       "      <th>native-country</th>\n",
       "      <th>label</th>\n",
       "      <th>capital-gain</th>\n",
       "      <th>capital-loss</th>\n",
       "    </tr>\n",
       "  </thead>\n",
       "  <tbody>\n",
       "    <tr>\n",
       "      <th>0</th>\n",
       "      <td>617c781eadbeb9dc2c50de57</td>\n",
       "      <td>39</td>\n",
       "      <td>State-gov</td>\n",
       "      <td>77516</td>\n",
       "      <td>Bachelors</td>\n",
       "      <td>13</td>\n",
       "      <td>Never-married</td>\n",
       "      <td>Adm-clerical</td>\n",
       "      <td>Not-in-family</td>\n",
       "      <td>White</td>\n",
       "      <td>Male</td>\n",
       "      <td>2174</td>\n",
       "      <td>0</td>\n",
       "      <td>40</td>\n",
       "      <td>United-States</td>\n",
       "      <td>&lt;=50K</td>\n",
       "      <td>NaN</td>\n",
       "      <td>NaN</td>\n",
       "    </tr>\n",
       "    <tr>\n",
       "      <th>1</th>\n",
       "      <td>617c781eadbeb9dc2c50de58</td>\n",
       "      <td>50</td>\n",
       "      <td>Self-emp-not-inc</td>\n",
       "      <td>83311</td>\n",
       "      <td>Bachelors</td>\n",
       "      <td>13</td>\n",
       "      <td>Married-civ-spouse</td>\n",
       "      <td>Exec-managerial</td>\n",
       "      <td>Husband</td>\n",
       "      <td>White</td>\n",
       "      <td>Male</td>\n",
       "      <td>0</td>\n",
       "      <td>0</td>\n",
       "      <td>13</td>\n",
       "      <td>United-States</td>\n",
       "      <td>&lt;=50K</td>\n",
       "      <td>NaN</td>\n",
       "      <td>NaN</td>\n",
       "    </tr>\n",
       "    <tr>\n",
       "      <th>2</th>\n",
       "      <td>617c781eadbeb9dc2c50de59</td>\n",
       "      <td>38</td>\n",
       "      <td>Private</td>\n",
       "      <td>215646</td>\n",
       "      <td>HS-grad</td>\n",
       "      <td>9</td>\n",
       "      <td>Divorced</td>\n",
       "      <td>Handlers-cleaners</td>\n",
       "      <td>Not-in-family</td>\n",
       "      <td>White</td>\n",
       "      <td>Male</td>\n",
       "      <td>0</td>\n",
       "      <td>0</td>\n",
       "      <td>40</td>\n",
       "      <td>United-States</td>\n",
       "      <td>&lt;=50K</td>\n",
       "      <td>999.0</td>\n",
       "      <td>999.0</td>\n",
       "    </tr>\n",
       "    <tr>\n",
       "      <th>3</th>\n",
       "      <td>617c781eadbeb9dc2c50de5a</td>\n",
       "      <td>53</td>\n",
       "      <td>Private</td>\n",
       "      <td>234721</td>\n",
       "      <td>11th</td>\n",
       "      <td>7</td>\n",
       "      <td>Married-civ-spouse</td>\n",
       "      <td>Handlers-cleaners</td>\n",
       "      <td>Husband</td>\n",
       "      <td>Black</td>\n",
       "      <td>Male</td>\n",
       "      <td>0</td>\n",
       "      <td>0</td>\n",
       "      <td>40</td>\n",
       "      <td>United-States</td>\n",
       "      <td>&lt;=50K</td>\n",
       "      <td>NaN</td>\n",
       "      <td>NaN</td>\n",
       "    </tr>\n",
       "    <tr>\n",
       "      <th>4</th>\n",
       "      <td>617c781eadbeb9dc2c50de5b</td>\n",
       "      <td>28</td>\n",
       "      <td>Private</td>\n",
       "      <td>338409</td>\n",
       "      <td>Bachelors</td>\n",
       "      <td>13</td>\n",
       "      <td>Married-civ-spouse</td>\n",
       "      <td>Prof-specialty</td>\n",
       "      <td>Wife</td>\n",
       "      <td>Black</td>\n",
       "      <td>Female</td>\n",
       "      <td>0</td>\n",
       "      <td>0</td>\n",
       "      <td>40</td>\n",
       "      <td>Cuba</td>\n",
       "      <td>&lt;=50K</td>\n",
       "      <td>NaN</td>\n",
       "      <td>NaN</td>\n",
       "    </tr>\n",
       "  </tbody>\n",
       "</table>\n",
       "</div>"
      ],
      "text/plain": [
       "                        _id  age          workclass   fnlwgt   education  \\\n",
       "0  617c781eadbeb9dc2c50de57   39          State-gov    77516   Bachelors   \n",
       "1  617c781eadbeb9dc2c50de58   50   Self-emp-not-inc    83311   Bachelors   \n",
       "2  617c781eadbeb9dc2c50de59   38            Private   215646     HS-grad   \n",
       "3  617c781eadbeb9dc2c50de5a   53            Private   234721        11th   \n",
       "4  617c781eadbeb9dc2c50de5b   28            Private   338409   Bachelors   \n",
       "\n",
       "   education-num       marital-status          occupation    relationship  \\\n",
       "0             13        Never-married        Adm-clerical   Not-in-family   \n",
       "1             13   Married-civ-spouse     Exec-managerial         Husband   \n",
       "2              9             Divorced   Handlers-cleaners   Not-in-family   \n",
       "3              7   Married-civ-spouse   Handlers-cleaners         Husband   \n",
       "4             13   Married-civ-spouse      Prof-specialty            Wife   \n",
       "\n",
       "     race      sex  capital-gain  capital-loss  hours-per-week  \\\n",
       "0   White     Male          2174             0              40   \n",
       "1   White     Male             0             0              13   \n",
       "2   White     Male             0             0              40   \n",
       "3   Black     Male             0             0              40   \n",
       "4   Black   Female             0             0              40   \n",
       "\n",
       "   native-country   label  capital-gain  capital-loss  \n",
       "0   United-States   <=50K           NaN           NaN  \n",
       "1   United-States   <=50K           NaN           NaN  \n",
       "2   United-States   <=50K         999.0         999.0  \n",
       "3   United-States   <=50K           NaN           NaN  \n",
       "4            Cuba   <=50K           NaN           NaN  "
      ]
     },
     "execution_count": 28,
     "metadata": {},
     "output_type": "execute_result"
    }
   ],
   "source": [
    "income_df.head()"
   ]
  },
  {
   "cell_type": "code",
   "execution_count": 29,
   "id": "c69db794",
   "metadata": {},
   "outputs": [
    {
     "data": {
      "text/plain": [
       "count    32561.000000\n",
       "mean        38.581647\n",
       "std         13.640433\n",
       "min         17.000000\n",
       "25%         28.000000\n",
       "50%         37.000000\n",
       "75%         48.000000\n",
       "max         90.000000\n",
       "Name: age, dtype: float64"
      ]
     },
     "execution_count": 29,
     "metadata": {},
     "output_type": "execute_result"
    }
   ],
   "source": [
    "income_df['age'].describe()\n",
    "#El dataframe ahora se puede usar para realizar todas las tareas de ciencia de datos y aprendizaje automático"
   ]
  },
  {
   "cell_type": "code",
   "execution_count": null,
   "id": "96b3a086",
   "metadata": {},
   "outputs": [],
   "source": [
    "\"\"\"\n",
    "delete ( ) in MongoDB\n",
    "\n",
    "La colección creada anteriormente se puede eliminar usando delete_many () o selectivamente usando delete_one ()\n",
    "\"\"\""
   ]
  },
  {
   "cell_type": "code",
   "execution_count": 30,
   "id": "4e5e6fe0",
   "metadata": {},
   "outputs": [
    {
     "data": {
      "text/plain": [
       "<pymongo.results.DeleteResult at 0x1fd56afcf80>"
      ]
     },
     "execution_count": 30,
     "metadata": {},
     "output_type": "execute_result"
    }
   ],
   "source": [
    "collection.delete_many({})"
   ]
  },
  {
   "cell_type": "code",
   "execution_count": null,
   "id": "221ed182",
   "metadata": {},
   "outputs": [],
   "source": []
  }
 ],
 "metadata": {
  "kernelspec": {
   "display_name": "Python 3",
   "language": "python",
   "name": "python3"
  },
  "language_info": {
   "codemirror_mode": {
    "name": "ipython",
    "version": 3
   },
   "file_extension": ".py",
   "mimetype": "text/x-python",
   "name": "python",
   "nbconvert_exporter": "python",
   "pygments_lexer": "ipython3",
   "version": "3.8.8"
  }
 },
 "nbformat": 4,
 "nbformat_minor": 5
}
