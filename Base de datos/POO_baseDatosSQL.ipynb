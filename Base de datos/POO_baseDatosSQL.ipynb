{
 "cells": [
  {
   "cell_type": "code",
   "execution_count": 35,
   "id": "20ca5844",
   "metadata": {},
   "outputs": [],
   "source": [
    "import pymysql\n",
    "import pandas as pd\n",
    "\n",
    "class conectarDB():\n",
    "    def __init__(self,host,user,password,db):\n",
    "        self.baseDatos = pymysql.connect(host = host,user = user,password = password,db = db)\n",
    "        self.cursor = self.baseDatos.cursor()\n",
    "        print(\"Conectado\")\n",
    "   \n",
    "    def consultar(self,consulta):\n",
    "        self.cursor.execute(consulta)\n",
    "        return self.cursor\n",
    "    \n",
    "    def commit(self):\n",
    "        self.baseDatos.commit()\n",
    "        return\n",
    "    \n",
    "    def dataFrame(self, consulta):\n",
    "        df = pd.read_sql_query(consulta, self.baseDatos)\n",
    "        return df\n",
    "\n",
    "    def close(self):\n",
    "        self.baseDatos.close()\n",
    "        print(\"Desconectado\")    \n",
    "    "
   ]
  },
  {
   "cell_type": "code",
   "execution_count": 36,
   "id": "114df239",
   "metadata": {},
   "outputs": [
    {
     "name": "stdout",
     "output_type": "stream",
     "text": [
      "Conectado\n"
     ]
    },
    {
     "data": {
      "text/html": [
       "<div>\n",
       "<style scoped>\n",
       "    .dataframe tbody tr th:only-of-type {\n",
       "        vertical-align: middle;\n",
       "    }\n",
       "\n",
       "    .dataframe tbody tr th {\n",
       "        vertical-align: top;\n",
       "    }\n",
       "\n",
       "    .dataframe thead th {\n",
       "        text-align: right;\n",
       "    }\n",
       "</style>\n",
       "<table border=\"1\" class=\"dataframe\">\n",
       "  <thead>\n",
       "    <tr style=\"text-align: right;\">\n",
       "      <th></th>\n",
       "      <th>dept_no</th>\n",
       "      <th>dept_name</th>\n",
       "    </tr>\n",
       "  </thead>\n",
       "  <tbody>\n",
       "    <tr>\n",
       "      <th>0</th>\n",
       "      <td>d009</td>\n",
       "      <td>Customer Service</td>\n",
       "    </tr>\n",
       "    <tr>\n",
       "      <th>1</th>\n",
       "      <td>d010</td>\n",
       "      <td>Data Science</td>\n",
       "    </tr>\n",
       "    <tr>\n",
       "      <th>2</th>\n",
       "      <td>d005</td>\n",
       "      <td>Development</td>\n",
       "    </tr>\n",
       "    <tr>\n",
       "      <th>3</th>\n",
       "      <td>d002</td>\n",
       "      <td>Finance</td>\n",
       "    </tr>\n",
       "    <tr>\n",
       "      <th>4</th>\n",
       "      <td>d003</td>\n",
       "      <td>Human Resources</td>\n",
       "    </tr>\n",
       "  </tbody>\n",
       "</table>\n",
       "</div>"
      ],
      "text/plain": [
       "  dept_no         dept_name\n",
       "0    d009  Customer Service\n",
       "1    d010      Data Science\n",
       "2    d005       Development\n",
       "3    d002           Finance\n",
       "4    d003   Human Resources"
      ]
     },
     "execution_count": 36,
     "metadata": {},
     "output_type": "execute_result"
    }
   ],
   "source": [
    "base = conectarDB('localhost','root','','employees')\n",
    "consulta = 'SELECT * FROM departments'\n",
    "dept = base.consultar(consulta)\n",
    "#datos = dept.fetchall()\n",
    "#print(datos)\n",
    "dept = base.dataFrame(consulta)\n",
    "dept.head()\n"
   ]
  },
  {
   "cell_type": "code",
   "execution_count": null,
   "id": "4f7de18e",
   "metadata": {},
   "outputs": [],
   "source": []
  },
  {
   "cell_type": "code",
   "execution_count": null,
   "id": "6d846a31",
   "metadata": {},
   "outputs": [],
   "source": []
  }
 ],
 "metadata": {
  "kernelspec": {
   "display_name": "Python 3",
   "language": "python",
   "name": "python3"
  },
  "language_info": {
   "codemirror_mode": {
    "name": "ipython",
    "version": 3
   },
   "file_extension": ".py",
   "mimetype": "text/x-python",
   "name": "python",
   "nbconvert_exporter": "python",
   "pygments_lexer": "ipython3",
   "version": "3.8.8"
  }
 },
 "nbformat": 4,
 "nbformat_minor": 5
}
