{
 "cells": [
  {
   "cell_type": "code",
   "execution_count": 85,
   "id": "20ca5844",
   "metadata": {},
   "outputs": [],
   "source": [
    "import pymysql\n",
    "import pandas as pd\n",
    "\n",
    "class conectarDB():\n",
    "    def __init__(self,host,user,password,db):\n",
    "        self.host = host\n",
    "        self.user = user\n",
    "        self.password = password\n",
    "        self.db = db\n",
    "        __cursor = ''\n",
    "        self.__connect()\n",
    "\n",
    "    def __connect(self):\n",
    "        try:\n",
    "            self.baseDatos = pymysql.connect(\n",
    "                host = self.host, \n",
    "                user = self.user,\n",
    "                password = self.password,\n",
    "                db = self.db)\n",
    "\n",
    "            self.__cursor = self.baseDatos.cursor()\n",
    "            print(\"Conexión correcta\")\n",
    "            return True\n",
    "\n",
    "        except (pymysql.err.OperationalError, pymysql.err.InternalError) as e:\n",
    "            print(\"Ocurrió un error al conectar: \", e)\n",
    "            return False\n",
    "    \n",
    "    def __comprobarConexion(self):\n",
    "        if hasattr(self,'baseDatos'):\n",
    "            print ('Conexion abierta')\n",
    "            return self.__cursor\n",
    "        else:\n",
    "            print ('Intentando reconexion')\n",
    "            return self.__connect()\n",
    "        \n",
    "\n",
    "    def consultar(self, consulta):\n",
    "        if self.__comprobarConexion():\n",
    "            ejecucion = self.__cursor.execute(consulta)\n",
    "            if ejecucion > 1:\n",
    "                return self.__cursor.fetchall()\n",
    "            return self.__cursor.fetchone()\n",
    "\n",
    "    def modificar(self, consulta):\n",
    "        if self.consultar(consulta):\n",
    "            self.__baseDatos.commit()\n",
    "    \n",
    "    def dataFrame(self, consulta):\n",
    "        if self.__comprobarConexion():\n",
    "            return pd.read_sql_query(consulta, self.baseDatos)\n",
    "\n",
    "    def close(self):\n",
    "        if hasattr(self,'baseDatos') and self.baseDatos.open:\n",
    "            self.baseDatos.close()\n",
    "            print(\"Desconectado\")    \n",
    "    "
   ]
  },
  {
   "cell_type": "markdown",
   "id": "093ae615",
   "metadata": {},
   "source": [
    "Creamos el objeto employees.\n",
    "Traemos todo el contenido de los departamentos."
   ]
  },
  {
   "cell_type": "code",
   "execution_count": 16,
   "id": "114df239",
   "metadata": {},
   "outputs": [
    {
     "name": "stdout",
     "output_type": "stream",
     "text": [
      "Conexión correcta\n",
      "Conexion abierta\n",
      "(('d009', 'Customer Service'), ('d005', 'Development'), ('d002', 'Finance'), ('d003', 'Human Resources'), ('d001', 'Marketing'), ('d004', 'Production'), ('d006', 'Quality Management'), ('d008', 'Research'), ('d007', 'Sales'))\n"
     ]
    }
   ],
   "source": [
    "employees = conectarDB('localhost','root','','employees')\n",
    "consulta = 'SELECT * FROM departments'\n",
    "departamentos = employees.consultar(consulta)\n",
    "print(departamentos)"
   ]
  },
  {
   "cell_type": "code",
   "execution_count": 11,
   "id": "f844bc66",
   "metadata": {},
   "outputs": [
    {
     "name": "stdout",
     "output_type": "stream",
     "text": [
      "Conexion abierta\n",
      "Conexion abierta\n"
     ]
    },
    {
     "data": {
      "text/html": [
       "<div>\n",
       "<style scoped>\n",
       "    .dataframe tbody tr th:only-of-type {\n",
       "        vertical-align: middle;\n",
       "    }\n",
       "\n",
       "    .dataframe tbody tr th {\n",
       "        vertical-align: top;\n",
       "    }\n",
       "\n",
       "    .dataframe thead th {\n",
       "        text-align: right;\n",
       "    }\n",
       "</style>\n",
       "<table border=\"1\" class=\"dataframe\">\n",
       "  <thead>\n",
       "    <tr style=\"text-align: right;\">\n",
       "      <th></th>\n",
       "      <th>emp_no</th>\n",
       "      <th>birth_date</th>\n",
       "      <th>first_name</th>\n",
       "      <th>last_name</th>\n",
       "      <th>gender</th>\n",
       "      <th>hire_date</th>\n",
       "    </tr>\n",
       "  </thead>\n",
       "  <tbody>\n",
       "    <tr>\n",
       "      <th>0</th>\n",
       "      <td>10001</td>\n",
       "      <td>1953-09-02</td>\n",
       "      <td>Georgi</td>\n",
       "      <td>Facello</td>\n",
       "      <td>M</td>\n",
       "      <td>1986-06-26</td>\n",
       "    </tr>\n",
       "    <tr>\n",
       "      <th>1</th>\n",
       "      <td>10002</td>\n",
       "      <td>1964-06-02</td>\n",
       "      <td>Bezalel</td>\n",
       "      <td>Simmel</td>\n",
       "      <td>F</td>\n",
       "      <td>1985-11-21</td>\n",
       "    </tr>\n",
       "    <tr>\n",
       "      <th>2</th>\n",
       "      <td>10003</td>\n",
       "      <td>1959-12-03</td>\n",
       "      <td>Parto</td>\n",
       "      <td>Bamford</td>\n",
       "      <td>M</td>\n",
       "      <td>1986-08-28</td>\n",
       "    </tr>\n",
       "    <tr>\n",
       "      <th>3</th>\n",
       "      <td>10004</td>\n",
       "      <td>1954-05-01</td>\n",
       "      <td>Chirstian</td>\n",
       "      <td>Koblick</td>\n",
       "      <td>M</td>\n",
       "      <td>1986-12-01</td>\n",
       "    </tr>\n",
       "    <tr>\n",
       "      <th>4</th>\n",
       "      <td>10005</td>\n",
       "      <td>1955-01-21</td>\n",
       "      <td>Kyoichi</td>\n",
       "      <td>Maliniak</td>\n",
       "      <td>M</td>\n",
       "      <td>1989-09-12</td>\n",
       "    </tr>\n",
       "  </tbody>\n",
       "</table>\n",
       "</div>"
      ],
      "text/plain": [
       "   emp_no  birth_date first_name last_name gender   hire_date\n",
       "0   10001  1953-09-02     Georgi   Facello      M  1986-06-26\n",
       "1   10002  1964-06-02    Bezalel    Simmel      F  1985-11-21\n",
       "2   10003  1959-12-03      Parto   Bamford      M  1986-08-28\n",
       "3   10004  1954-05-01  Chirstian   Koblick      M  1986-12-01\n",
       "4   10005  1955-01-21    Kyoichi  Maliniak      M  1989-09-12"
      ]
     },
     "execution_count": 11,
     "metadata": {},
     "output_type": "execute_result"
    }
   ],
   "source": [
    "consulta = 'SELECT * FROM employees'\n",
    "e = employees.consultar(consulta)\n",
    "e_df = employees.dataFrame(consulta)\n",
    "e_df.head() "
   ]
  },
  {
   "cell_type": "code",
   "execution_count": 9,
   "id": "4f7de18e",
   "metadata": {},
   "outputs": [
    {
     "name": "stdout",
     "output_type": "stream",
     "text": [
      "Conexion abierta\n",
      "(120051,)\n"
     ]
    }
   ],
   "source": [
    "cantidadMujeres = employees.consultar('SELECT count(*) FROM employees where gender =\"F\"')\n",
    "print(cantidadMujeres)"
   ]
  },
  {
   "cell_type": "code",
   "execution_count": 13,
   "id": "1b476898",
   "metadata": {},
   "outputs": [
    {
     "name": "stdout",
     "output_type": "stream",
     "text": [
      "Conexion abierta\n",
      "Conexion abierta\n"
     ]
    },
    {
     "data": {
      "text/html": [
       "<div>\n",
       "<style scoped>\n",
       "    .dataframe tbody tr th:only-of-type {\n",
       "        vertical-align: middle;\n",
       "    }\n",
       "\n",
       "    .dataframe tbody tr th {\n",
       "        vertical-align: top;\n",
       "    }\n",
       "\n",
       "    .dataframe thead th {\n",
       "        text-align: right;\n",
       "    }\n",
       "</style>\n",
       "<table border=\"1\" class=\"dataframe\">\n",
       "  <thead>\n",
       "    <tr style=\"text-align: right;\">\n",
       "      <th></th>\n",
       "      <th>emp_no</th>\n",
       "      <th>birth_date</th>\n",
       "      <th>first_name</th>\n",
       "      <th>last_name</th>\n",
       "      <th>gender</th>\n",
       "      <th>hire_date</th>\n",
       "      <th>title</th>\n",
       "    </tr>\n",
       "  </thead>\n",
       "  <tbody>\n",
       "    <tr>\n",
       "      <th>0</th>\n",
       "      <td>10002</td>\n",
       "      <td>1964-06-02</td>\n",
       "      <td>Bezalel</td>\n",
       "      <td>Simmel</td>\n",
       "      <td>F</td>\n",
       "      <td>1985-11-21</td>\n",
       "      <td>Staff</td>\n",
       "    </tr>\n",
       "    <tr>\n",
       "      <th>1</th>\n",
       "      <td>10005</td>\n",
       "      <td>1955-01-21</td>\n",
       "      <td>Kyoichi</td>\n",
       "      <td>Maliniak</td>\n",
       "      <td>M</td>\n",
       "      <td>1989-09-12</td>\n",
       "      <td>Staff</td>\n",
       "    </tr>\n",
       "    <tr>\n",
       "      <th>2</th>\n",
       "      <td>10007</td>\n",
       "      <td>1957-05-23</td>\n",
       "      <td>Tzvetan</td>\n",
       "      <td>Zielinski</td>\n",
       "      <td>F</td>\n",
       "      <td>1989-02-10</td>\n",
       "      <td>Staff</td>\n",
       "    </tr>\n",
       "    <tr>\n",
       "      <th>3</th>\n",
       "      <td>10011</td>\n",
       "      <td>1953-11-07</td>\n",
       "      <td>Mary</td>\n",
       "      <td>Sluis</td>\n",
       "      <td>F</td>\n",
       "      <td>1990-01-22</td>\n",
       "      <td>Staff</td>\n",
       "    </tr>\n",
       "    <tr>\n",
       "      <th>4</th>\n",
       "      <td>10016</td>\n",
       "      <td>1961-05-02</td>\n",
       "      <td>Kazuhito</td>\n",
       "      <td>Cappelletti</td>\n",
       "      <td>M</td>\n",
       "      <td>1995-01-27</td>\n",
       "      <td>Staff</td>\n",
       "    </tr>\n",
       "  </tbody>\n",
       "</table>\n",
       "</div>"
      ],
      "text/plain": [
       "   emp_no  birth_date first_name    last_name gender   hire_date  title\n",
       "0   10002  1964-06-02    Bezalel       Simmel      F  1985-11-21  Staff\n",
       "1   10005  1955-01-21    Kyoichi     Maliniak      M  1989-09-12  Staff\n",
       "2   10007  1957-05-23    Tzvetan    Zielinski      F  1989-02-10  Staff\n",
       "3   10011  1953-11-07       Mary        Sluis      F  1990-01-22  Staff\n",
       "4   10016  1961-05-02   Kazuhito  Cappelletti      M  1995-01-27  Staff"
      ]
     },
     "execution_count": 13,
     "metadata": {},
     "output_type": "execute_result"
    }
   ],
   "source": [
    "consulta_staff = 'SELECT e.*, t.title from employees e INNER JOIN titles t on (e.emp_no = t.emp_no) where t.title = \"Staff\"'\n",
    "s = employees.consultar(consulta_staff)\n",
    "s_df = employees.dataFrame(consulta_staff)\n",
    "s_df.head() "
   ]
  }
 ],
 "metadata": {
  "interpreter": {
   "hash": "b1cbc199116ca0050f15b4a096ee5586221393ef42f89efdf0ba89fccf25361f"
  },
  "kernelspec": {
   "display_name": "Python 3",
   "language": "python",
   "name": "python3"
  },
  "language_info": {
   "codemirror_mode": {
    "name": "ipython",
    "version": 3
   },
   "file_extension": ".py",
   "mimetype": "text/x-python",
   "name": "python",
   "nbconvert_exporter": "python",
   "pygments_lexer": "ipython3",
   "version": "3.8.8"
  }
 },
 "nbformat": 4,
 "nbformat_minor": 5
}
