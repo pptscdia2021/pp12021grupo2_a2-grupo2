{
 "cells": [
  {
   "cell_type": "code",
   "execution_count": 85,
   "id": "20ca5844",
   "metadata": {},
   "outputs": [],
   "source": [
    "import pymysql\n",
    "import pandas as pd\n",
    "\n",
    "class conectarDB():\n",
    "    def __init__(self,host,user,password,db):\n",
    "        self.host = host\n",
    "        self.user = user\n",
    "        self.password = password\n",
    "        self.db = db\n",
    "        __cursor = ''\n",
    "        self.__connect()\n",
    "\n",
    "    def __connect(self):\n",
    "        try:\n",
    "            self.baseDatos = pymysql.connect(\n",
    "                host = self.host, \n",
    "                user = self.user,\n",
    "                password = self.password,\n",
    "                db = self.db)\n",
    "\n",
    "            self.__cursor = self.baseDatos.cursor()\n",
    "            print(\"Conexión correcta\")\n",
    "            return True\n",
    "\n",
    "        except (pymysql.err.OperationalError, pymysql.err.InternalError) as e:\n",
    "            print(\"Ocurrió un error al conectar: \", e)\n",
    "            return False\n",
    "    \n",
    "    def __comprobarConexion(self):\n",
    "        if hasattr(self,'baseDatos'):\n",
    "            print ('Conexion abierta')\n",
    "            return self.__cursor\n",
    "        else:\n",
    "            print ('Intentando reconexion')\n",
    "            return self.__connect()\n",
    "        \n",
    "\n",
    "    def consultar(self, consulta):\n",
    "        if self.__comprobarConexion():\n",
    "            ejecucion = self.__cursor.execute(consulta)\n",
    "            if ejecucion > 1:\n",
    "                return self.__cursor.fetchall()\n",
    "            return self.__cursor.fetchone()\n",
    "\n",
    "    def modificar(self, consulta):\n",
    "        if self.consultar(consulta):\n",
    "            self.__baseDatos.commit()\n",
    "    \n",
    "    def dataFrame(self, consulta):\n",
    "        if self.__comprobarConexion():\n",
    "            return pd.read_sql_query(consulta, self.baseDatos)\n",
    "\n",
    "    def close(self):\n",
    "        if hasattr(self,'baseDatos') and self.baseDatos.open:\n",
    "            self.baseDatos.close()\n",
    "            print(\"Desconectado\")    \n",
    "    "
   ]
  },
  {
   "cell_type": "markdown",
   "metadata": {},
   "source": [
    "Creamos el objeto employees.\n",
    "Traemos todo el contenido de los departamentos."
   ]
  },
  {
   "cell_type": "code",
   "execution_count": 86,
   "id": "114df239",
   "metadata": {},
   "outputs": [
    {
     "name": "stdout",
     "output_type": "stream",
     "text": [
      "Conexión correcta\n",
      "Conexion abierta\n",
      "(('d009', 'Customer Service'), ('d005', 'Development'), ('d002', 'Finance'), ('d003', 'Human Resources'), ('d001', 'Marketing'), ('d004', 'Production'), ('d006', 'Quality Management'), ('d008', 'Research'), ('d007', 'Sales'))\n"
     ]
    }
   ],
   "source": [
    "employees = conectarDB('localhost','root','018168','employees')\n",
    "consulta = 'SELECT * FROM departments'\n",
    "departamentos = employees.consultar(consulta)\n",
    "print(departamentos)"
   ]
  },
  {
   "cell_type": "code",
   "execution_count": 87,
   "id": "4f7de18e",
   "metadata": {},
   "outputs": [
    {
     "name": "stdout",
     "output_type": "stream",
     "text": [
      "Conexion abierta\n",
      "(120051,)\n"
     ]
    }
   ],
   "source": [
    "cantidadMujeres = employees.consultar('SELECT count(*) FROM employees where gender =\"F\"')\n",
    "print(cantidadMujeres)"
   ]
  },
  {
   "cell_type": "code",
   "execution_count": null,
   "id": "6d846a31",
   "metadata": {},
   "outputs": [],
   "source": []
  }
 ],
 "metadata": {
  "interpreter": {
   "hash": "b1cbc199116ca0050f15b4a096ee5586221393ef42f89efdf0ba89fccf25361f"
  },
  "kernelspec": {
   "display_name": "Python 3.8.8 64-bit ('base': conda)",
   "name": "python3"
  },
  "language_info": {
   "codemirror_mode": {
    "name": "ipython",
    "version": 3
   },
   "file_extension": ".py",
   "mimetype": "text/x-python",
   "name": "python",
   "nbconvert_exporter": "python",
   "pygments_lexer": "ipython3",
   "version": "3.8.8"
  }
 },
 "nbformat": 4,
 "nbformat_minor": 5
}
