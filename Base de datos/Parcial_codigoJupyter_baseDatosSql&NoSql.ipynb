{
 "cells": [
  {
   "cell_type": "code",
   "execution_count": null,
   "id": "424a032b",
   "metadata": {},
   "outputs": [],
   "source": [
    "#Realizar la conexion a la BBDD employees\n",
    "import pymysql\n",
    "try:\n",
    "\tconexion = pymysql.connect(host='localhost',\n",
    "                             user='root',\n",
    "                             password='',\n",
    "                             db='employees')\n",
    "\tprint(\"Conexión correcta\")\n",
    "except (pymysql.err.OperationalError, pymysql.err.InternalError) as e:\n",
    "\tprint(\"Ocurrió un error al conectar: \", e)"
   ]
  },
  {
   "cell_type": "code",
   "execution_count": null,
   "id": "8565ad5e",
   "metadata": {},
   "outputs": [],
   "source": [
    "#Obtenemos los datos de la tabla employees\n",
    "#Al finalizar escribimos la sentencia 'except' para continuar con la conexión activa\n",
    "try:\n",
    "    with conexion.cursor() as cursor:\n",
    "        # En este caso no necesitamos limpiar ningún dato\n",
    "        cursor.execute(\"SELECT * FROM employees;\")\n",
    " \n",
    "        # Con fetchall traemos todas las filas\n",
    "        employees = cursor.fetchall()\n",
    " \n",
    "        # Recorrer e imprimir\n",
    "        for emp in employees:\n",
    "            print(emp)\n",
    "except:\n",
    "    print('No se pudo realizar la consulta')\n",
    "\n",
    "#finally:\n",
    "    #conexion.close()"
   ]
  },
  {
   "cell_type": "code",
   "execution_count": null,
   "id": "53d355f8",
   "metadata": {},
   "outputs": [],
   "source": [
    "#Obtenemos los datos de la tabla employees que sean mujeres\n",
    "#Al finalizar escribimos la sentencia 'except' para continuar con la conexión activa\n",
    "try:\n",
    "    with conexion.cursor() as cursor:\n",
    "        consulta = \"SELECT emp_no, last_name FROM employees WHERE gender ='F';\"\n",
    "        cursor.execute(consulta)\n",
    " \n",
    "        # Con fetchall traemos todas las filas\n",
    "        employees = cursor.fetchall()\n",
    " \n",
    "        # Recorrer e imprimir\n",
    "        for emp in employees:\n",
    "            print(emp)\n",
    "except:\n",
    "    print('No se pudo realizar la consulta')\n",
    "\n",
    "#finally:\n",
    "    #conexion.close()"
   ]
  },
  {
   "cell_type": "code",
   "execution_count": null,
   "id": "1cee2be6",
   "metadata": {},
   "outputs": [],
   "source": [
    "#Obtenemos los datos completos de los departamentos\n",
    "#Al finalizar escribimos la sentencia 'except' para continuar con la conexión activa\n",
    "try:\n",
    "    with conexion.cursor() as cursor:\n",
    "        # En este caso no necesitamos limpiar ningún dato\n",
    "        cursor.execute(\"SELECT * FROM departments;\")\n",
    " \n",
    "        # Con fetchall traemos todas las filas\n",
    "        departments = cursor.fetchall()\n",
    " \n",
    "        # Recorrer e imprimir\n",
    "        for dept in departments:\n",
    "            print(dept)\n",
    "except:\n",
    "    print('No se pudo realizar la consulta')\n",
    "\n",
    "#finally:\n",
    "    #conexion.close()\n"
   ]
  },
  {
   "cell_type": "code",
   "execution_count": null,
   "id": "dc0e6366",
   "metadata": {},
   "outputs": [],
   "source": [
    "#Obtener la cantidad de empleados\n",
    " \n",
    "cursor= conexion.cursor() \n",
    "\n",
    "cantidad_total = cursor.execute(\"SELECT * FROM employees\") \n",
    "  \n",
    "print('La cantidad total de empleados es ', cantidad_total)\n",
    "\n"
   ]
  },
  {
   "cell_type": "code",
   "execution_count": null,
   "id": "c2d254db",
   "metadata": {},
   "outputs": [],
   "source": [
    "#Obtener la cantidad de empleadas mujeres\n",
    " \n",
    "cursor= conexion.cursor() \n",
    "\n",
    "cantidad_mujeres = cursor.execute(\"SELECT * FROM employees WHERE gender ='F';\") \n",
    "  \n",
    "print('La cantidad de mujeres es ', cantidad_mujeres)"
   ]
  },
  {
   "cell_type": "code",
   "execution_count": null,
   "id": "724a8df5",
   "metadata": {},
   "outputs": [],
   "source": [
    "#Agregar el departamento Ciencias de Datos.\n",
    "try:\n",
    "    conexion = pymysql.connect(host='localhost',\n",
    "                             user='root',\n",
    "                             password='',\n",
    "                             db='employees')\n",
    "    try:\n",
    "        with conexion.cursor() as cursor:\n",
    "            consulta = \"INSERT INTO departments(dept_no, dept_name) VALUES (%s, %s);\"\n",
    "            #Podemos llamar muchas veces a .execute con datos distintos\n",
    "            cursor.execute(consulta, ('d010', 'Data Science'))\n",
    "            #cursor.execute(consulta, ())\n",
    "        conexion.commit()\n",
    "    except:\n",
    "        print('No se pudo realizar la consulta')\n",
    "except (pymysql.err.OperationalError, pymysql.err.InternalError) as e:\n",
    "    print(\"Ocurrió un error al conectar: \", e)"
   ]
  },
  {
   "cell_type": "code",
   "execution_count": null,
   "id": "8669769c",
   "metadata": {},
   "outputs": [],
   "source": [
    "#Insertamos al empleado Pepe\n",
    "try:\n",
    "    with conexion.cursor() as cursor:\n",
    "        consulta = \"INSERT INTO employees(emp_no, birth_date, first_name, last_name, gender, hire_date) VALUES (%s, %s, %s, %s, %s, %s);\"\n",
    "        #Podemos llamar muchas veces a .execute con datos distintos\n",
    "        cursor.execute(consulta, (300025, '1985-03-03','Pepe', 'Sanchez','M','2010-05-05'))\n",
    "            \n",
    "    conexion.commit()\n",
    "\n",
    "except:\n",
    "    print('No se pudo realizar la consulta')"
   ]
  },
  {
   "cell_type": "code",
   "execution_count": null,
   "id": "d6d89f27",
   "metadata": {},
   "outputs": [],
   "source": [
    "#Asignamos a Pepe como gerente del departamento Ciencia de Datos\n",
    "try:\n",
    "    with conexion.cursor() as cursor:\n",
    "        consulta = \"INSERT INTO dept_manager(emp_no, dept_no, from_date, to_date) VALUES (%s, %s, %s, %s);\"\n",
    "        #Podemos llamar muchas veces a .execute con datos distintos\n",
    "        cursor.execute(consulta, (300025, 'd010', '2015-05-05' ,'2021-11-01'))\n",
    "            \n",
    "    conexion.commit()\n",
    "\n",
    "except:\n",
    "    print('No se pudo realizar la consulta')"
   ]
  },
  {
   "cell_type": "code",
   "execution_count": null,
   "id": "62e29c57",
   "metadata": {},
   "outputs": [],
   "source": [
    "#Eliminamos al empleado Pepe\n",
    "try:\n",
    "    with conexion.cursor() as cursor:\n",
    "        consulta = \"DELETE FROM employees WHERE first_name = 'Pepe';\"\n",
    "        cursor.execute(consulta)\n",
    "        \n",
    "    conexion.commit()\n",
    "\n",
    "except:\n",
    "    print('No se pudo realizar la consulta')"
   ]
  }
 ],
 "metadata": {
  "kernelspec": {
   "display_name": "Python 3",
   "language": "python",
   "name": "python3"
  },
  "language_info": {
   "codemirror_mode": {
    "name": "ipython",
    "version": 3
   },
   "file_extension": ".py",
   "mimetype": "text/x-python",
   "name": "python",
   "nbconvert_exporter": "python",
   "pygments_lexer": "ipython3",
   "version": "3.8.8"
  }
 },
 "nbformat": 4,
 "nbformat_minor": 5
}
